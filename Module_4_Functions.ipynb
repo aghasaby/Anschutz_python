{
 "cells": [
  {
   "cell_type": "markdown",
   "metadata": {},
   "source": [
    "# Functions\n",
    "\n",
    "So far, in our adventures into data types, data structures, and file handling we've used Python's built-in functions as well as some added functionality from importing other packages.  For example, you may remember using these functions:\n",
    "\n",
    "- **len()**\n",
    "  - Return the length (number of items) in the list.  Returns an integer.\n",
    "- **max()**\n",
    "  - Return the largest item in the list.  For numeric items, this is the largest number.  For text items, this is the last item when the items are sorted alphabetically.\n",
    "- **min()**\n",
    "  - Return the smallest item in the list.  For numeric items, this is the smallest number.  For text items, this is the first item when the items are sorted alphabetically.\n",
    "- **sorted()**\n",
    "  - Return a sorted version of the list.  This **does not** happen in place and the list itself is unaffected.  Numeric values are sorted lowest to highest and text values are sorted alphabetically.\n",
    "- **sum()**\n",
    "  - Return the sum of all items in a list.  Only valid if all items are numeric.\n",
    "  \n",
    "- **range(start, stop)**\n",
    "  - Returns a list of all integers between start and stop (with half-open intervals!!)\n",
    "  \n",
    "A more complete list of Python's built-in functions can be found here: https://docs.python.org/3/library/functions.html\n",
    "\n",
    "It may be the case, however, that none of these functions may meet your specific need.  For example, there is no Python function called **analyzeRNAseqdata()**.  At least, not until you write it.  That's what we will cover here.  How to write (and use) your own, custom-built functions."
   ]
  },
  {
   "cell_type": "markdown",
   "metadata": {},
   "source": [
    "## Defining our own functions\n",
    "\n",
    "Defining functions is done with the following syntax:\n",
    "\n",
    "    def functionname(arguments):\n",
    "        maybe do something\n",
    "        maybe do something else\n",
    "        maybe return something\n",
    "        \n",
    "        \n",
    "There's a reason each line here starts with \"maybe.\"  It's because lines that perform actions aren't necessarily required in a function.  Similarly, returning the output of a function (done with the last line) isn't even required.  You don't even need arguments (these are the items that the function will use and operate on)!\n",
    "\n",
    "Let's start with perhaps one of the simplest possible functions."
   ]
  },
  {
   "cell_type": "code",
   "execution_count": 2,
   "metadata": {},
   "outputs": [
    {
     "name": "stdout",
     "output_type": "stream",
     "text": [
      "Hello world!\n"
     ]
    }
   ],
   "source": [
    "#Our first function\n",
    "\n",
    "#It has no arguments, so the area between the parentheses is blank.\n",
    "def sayhello():\n",
    "    print('Hello world!')\n",
    "    \n",
    "#OK now we've defined what the function is, so let's call it.\n",
    "sayhello()"
   ]
  },
  {
   "cell_type": "markdown",
   "metadata": {},
   "source": [
    "## Slightly more complicated functions\n",
    "\n",
    "OK nice, we've defined our function called sayhello.  Every time we call it by invoking sayhello(), it will print the string 'Hello world!'.  Pretty neat, and also pretty cheerful, but not super useful.  Let's write a function now that takes in an argument and does something with it.  Arguments, you'll recall, are items (they can be just about anything...) that the function recieves and often upon which the function performs actions."
   ]
  },
  {
   "cell_type": "code",
   "execution_count": 3,
   "metadata": {},
   "outputs": [
    {
     "name": "stdout",
     "output_type": "stream",
     "text": [
      "Well hello, Srinivas.\n"
     ]
    }
   ],
   "source": [
    "#Slightly more complicated\n",
    "\n",
    "def greeter(name):\n",
    "    print('Well hello, {0}.'.format(name))\n",
    "    \n",
    "#Function is defined.  Let's call it. Remember, this function requires one argument.  It must be provided.\n",
    "greeter('Srinivas')"
   ]
  },
  {
   "cell_type": "markdown",
   "metadata": {},
   "source": [
    "## Returning the output of a function\n",
    "\n",
    "Most of the time, functions will return their output instead of simply printing something in the middle.  This is done using the **return** keyword at the end of the function."
   ]
  },
  {
   "cell_type": "code",
   "execution_count": 4,
   "metadata": {},
   "outputs": [
    {
     "name": "stdout",
     "output_type": "stream",
     "text": [
      "5\n"
     ]
    }
   ],
   "source": [
    "#A function to add two numeric quantities\n",
    "\n",
    "def plus(a, b):\n",
    "    return a + b\n",
    "\n",
    "#Simple enough, now call it\n",
    "mysum = plus(2, 3)\n",
    "print(mysum)"
   ]
  },
  {
   "cell_type": "code",
   "execution_count": 8,
   "metadata": {},
   "outputs": [
    {
     "name": "stdout",
     "output_type": "stream",
     "text": [
      "7\n",
      "Both a and b must be numeric!\n"
     ]
    }
   ],
   "source": [
    "#Often it's good to write code that will catch your errors\n",
    "\n",
    "#We've learned that, in Python, you can \"add\" strings to combine them with the '+' operator.\n",
    "#However, adding strings and integers doesn't make sense.\n",
    "#So maybe we wan't to limit this function to only allowing addition in the mathematical sense.\n",
    "#That means only numeric things (integers and floats) can be added here.\n",
    "\n",
    "def plus(a, b):\n",
    "    #Check the type of a and b\n",
    "    #Notice the parentheses in the if statement\n",
    "    if (type(a) == int or type(a) == float) and (type(b) == int or type(b) == float):\n",
    "        return a + b\n",
    "    else:\n",
    "        return 'Both a and b must be numeric!'\n",
    "    \n",
    "mysum = plus(3, 4)\n",
    "print(mysum)\n",
    "mysum = plus('three', 4)\n",
    "print(mysum)"
   ]
  },
  {
   "cell_type": "markdown",
   "metadata": {},
   "source": [
    "## Documenting functions\n",
    "\n",
    "We've learned how to document code.  A line can be \"commented out\" by starting it with '#'.  Groups of lines can also be ignored by the compiler and left as plain English (or whatever it is you write) by surrounding them with triple quotes (''').  Generally it is a **GREAT** idea to document your code.  You will find that it is hard to remember exactly what you meant each line to do.  Imagine, then, try to figure out what *someone else's* code is trying to do when you are debugging it or expanding on it.  I believe it was Aristotle who said \"Hell is other people's code.\"\n",
    "\n",
    "**ALWAYS** insert comments on your code whereever you can.  For functions, inserting a small vignette about the purpose of the function and what it returns will save you time in the future."
   ]
  },
  {
   "cell_type": "code",
   "execution_count": 1,
   "metadata": {},
   "outputs": [
    {
     "name": "stdout",
     "output_type": "stream",
     "text": [
      "7\n",
      "Both a and b must be numeric!\n"
     ]
    }
   ],
   "source": [
    "def plus(a, b):\n",
    "    '''\n",
    "    This function takes in two values, a and b, and evaluates if there are both either\n",
    "    integers or floats. If so, it adds them.  If not, it returns a message stating that it needs\n",
    "    integers or floats.\n",
    "    \n",
    "    Returns:\n",
    "    int or float if a and b are ints and/or floats\n",
    "    string if either a or b is not an int or float\n",
    "    '''\n",
    "    \n",
    "    #Check the type of a and b\n",
    "    #Notice the parentheses in the if statement\n",
    "    if (type(a) == int or type(a) == float) and (type(b) == int or type(b) == float):\n",
    "        return a + b\n",
    "    else:\n",
    "        return 'Both a and b must be numeric!'\n",
    "    \n",
    "mysum = plus(3, 4)\n",
    "print(mysum)\n",
    "mysum = plus('three', 4)\n",
    "print(mysum)"
   ]
  },
  {
   "cell_type": "markdown",
   "metadata": {},
   "source": [
    "## Scope of variables\n",
    "\n",
    "Up until now, we have generally assumed that a variable defined somewhere in our code is recognized throughout the script.  Once we start using functions, this is not true.  This has to do with the *scope* of the variable.\n",
    "\n",
    "Generally, variables that are defined *within* a function are only valid within that function.  They cannot be accessed outside of the function and are therefore *local* variables.  Those that are defined outside of functions are called *global* variables and can be accessed by any function within the script."
   ]
  },
  {
   "cell_type": "code",
   "execution_count": 9,
   "metadata": {},
   "outputs": [
    {
     "name": "stdout",
     "output_type": "stream",
     "text": [
      "5\n",
      "5\n",
      "10\n"
     ]
    },
    {
     "ename": "NameError",
     "evalue": "name 'x' is not defined",
     "output_type": "error",
     "traceback": [
      "\u001b[0;31m---------------------------------------------------------------------------\u001b[0m",
      "\u001b[0;31mNameError\u001b[0m                                 Traceback (most recent call last)",
      "\u001b[0;32m<ipython-input-9-57ad3b3c76af>\u001b[0m in \u001b[0;36m<module>\u001b[0;34m()\u001b[0m\n\u001b[1;32m     20\u001b[0m \u001b[0;34m\u001b[0m\u001b[0m\n\u001b[1;32m     21\u001b[0m \u001b[0;31m#Can we access the variable x that is inside the function?  No.  We are outside of the function now.\u001b[0m\u001b[0;34m\u001b[0m\u001b[0;34m\u001b[0m\u001b[0m\n\u001b[0;32m---> 22\u001b[0;31m \u001b[0mprint\u001b[0m\u001b[0;34m(\u001b[0m\u001b[0mx\u001b[0m\u001b[0;34m)\u001b[0m\u001b[0;34m\u001b[0m\u001b[0m\n\u001b[0m",
      "\u001b[0;31mNameError\u001b[0m: name 'x' is not defined"
     ]
    }
   ],
   "source": [
    "initialx = 5\n",
    "\n",
    "#Make a function\n",
    "def double(x):\n",
    "    x = x*2\n",
    "    return x\n",
    "\n",
    "#initialx is a global variable\n",
    "print(initialx)\n",
    "\n",
    "#run the function on initialx\n",
    "double(initialx)\n",
    "\n",
    "#has initialx changed? No, it was only changed *inside* the function\n",
    "print(initialx)\n",
    "\n",
    "#Storing the output of the function shows us its effect\n",
    "doubledinitalx = double(initialx)\n",
    "print(doubledinitalx)\n",
    "\n",
    "#Can we access the variable x that is inside the function?  No.  We are outside of the function now.\n",
    "print(x)"
   ]
  },
  {
   "cell_type": "markdown",
   "metadata": {},
   "source": [
    "## The zip function\n",
    "\n",
    "Now that we've learned how to make our own functions, let's talk about four built-in functions that are often useful in genomic-style analyses.  The first is the <font color = 'red'>zip()</font> function.\n",
    "\n",
    "This function takes two iterables and combines them together into an *iterator*.  We don't have time to talk about what an iterator is or it's advantages.  For our purposes, just know that iterators can be converted to lists or dictionaries by wrapping them with list() or dict(), respectively.\n",
    "\n",
    "How is this useful?  Well, what if you had two related lists?  Say, a list of all codons and a string of all amino acids.  Combining these into a dictionary that shows their relationship could be very useful.  \n"
   ]
  },
  {
   "cell_type": "code",
   "execution_count": 12,
   "metadata": {},
   "outputs": [
    {
     "name": "stdout",
     "output_type": "stream",
     "text": [
      "{'UUU': 'F', 'UUC': 'F', 'UUA': 'L', 'UUG': 'L', 'UCU': 'S', 'UCC': 'S', 'UCA': 'S', 'UCG': 'S', 'UAU': 'Y', 'UAC': 'Y', 'UAA': '*', 'UAG': '*', 'UGU': 'C', 'UGC': 'C', 'UGA': '*', 'UGG': 'W', 'CUU': 'L', 'CUC': 'L', 'CUA': 'L', 'CUG': 'L', 'CCU': 'P', 'CCC': 'P', 'CCA': 'P', 'CCG': 'P', 'CAU': 'H', 'CAC': 'H', 'CAA': 'Q', 'CAG': 'Q', 'CGU': 'R', 'CGC': 'R', 'CGA': 'R', 'CGG': 'R', 'AUU': 'I', 'AUC': 'I', 'AUA': 'I', 'AUG': 'M', 'ACU': 'T', 'ACC': 'T', 'ACA': 'T', 'ACG': 'T', 'AAU': 'N', 'AAC': 'N', 'AAA': 'K', 'AAG': 'K', 'AGU': 'S', 'AGC': 'S', 'AGA': 'R', 'AGG': 'R', 'GUU': 'V', 'GUC': 'V', 'GUA': 'V', 'GUG': 'V', 'GCU': 'A', 'GCC': 'A', 'GCA': 'A', 'GCG': 'A', 'GAU': 'D', 'GAC': 'D', 'GAA': 'E', 'GAG': 'E', 'GGU': 'G', 'GGC': 'G', 'GGA': 'G', 'GGG': 'G'}\n"
     ]
    }
   ],
   "source": [
    "codons = ['UUU', 'UUC', 'UUA', 'UUG', 'UCU', 'UCC', 'UCA', 'UCG', 'UAU', 'UAC', 'UAA', 'UAG', 'UGU', 'UGC', 'UGA', 'UGG', \n",
    "          'CUU', 'CUC', 'CUA', 'CUG', 'CCU', 'CCC', 'CCA', 'CCG', 'CAU', 'CAC', 'CAA', 'CAG', 'CGU', 'CGC', 'CGA', 'CGG', \n",
    "          'AUU', 'AUC', 'AUA', 'AUG', 'ACU', 'ACC', 'ACA', 'ACG', 'AAU', 'AAC', 'AAA', 'AAG', 'AGU', 'AGC', 'AGA', 'AGG', \n",
    "          'GUU', 'GUC', 'GUA', 'GUG', 'GCU', 'GCC', 'GCA', 'GCG', 'GAU', 'GAC', 'GAA', 'GAG', 'GGU', 'GGC', 'GGA', 'GGG']\n",
    "\n",
    "aminoacids = 'FFLLSSSSYY**CC*WLLLLPPPPHHQQRRRRIIIMTTTTNNKKSSRRVVVVAAAADDEEGGGG'\n",
    "\n",
    "#Both lists and strings are iterables. The order of the amind acids is the same as the order of the codons.\n",
    "#We can combine them into a single dictionary that shows their relationships using zip()\n",
    "\n",
    "codontable = zip(codons, aminoacids)\n",
    "#codontable is now an iterator\n",
    "#Let's turn it into a dictionary\n",
    "codontable = dict(codontable)\n",
    "\n",
    "print(codontable)"
   ]
  },
  {
   "cell_type": "markdown",
   "metadata": {},
   "source": [
    "## The map function\n",
    "\n",
    "The map function applies a function to every item of an iterable.  Yes, you could use a **for** loop for the same effect. "
   ]
  },
  {
   "cell_type": "code",
   "execution_count": 16,
   "metadata": {},
   "outputs": [
    {
     "name": "stdout",
     "output_type": "stream",
     "text": [
      "[12, 8, 21]\n",
      "[12, 8, 21]\n"
     ]
    }
   ],
   "source": [
    "#Get the lengths of each of these oligos in this list\n",
    "\n",
    "oligos = ['CTGTACGATCGA', 'CTAGCTAG', 'TACGTAGCTAATTAACGACTG']\n",
    "\n",
    "#This will call the function len() on each item of the iterable and return an iterator of the results.\n",
    "oligolengths = map(len, oligos)\n",
    "#Turn it into a list\n",
    "oligolengths = list(oligolengths)\n",
    "print(oligolengths)\n",
    "\n",
    "\n",
    "#This is equivalent to the following loop\n",
    "oligolengths = []\n",
    "for oligo in oligos:\n",
    "    oligolengths.append(len(oligo))\n",
    "\n",
    "print(oligolengths)\n"
   ]
  },
  {
   "cell_type": "markdown",
   "metadata": {},
   "source": [
    "## Combinations\n",
    "\n",
    "Let's say you're a virologist so you care the immune response.  You did an RNAseq experiment before/after treating cells with some virus.  You saw that 100 genes were upregulated upon treatment.  15 of those were immune related.  Is that more than you would expect by chance?\n",
    "\n",
    "One way to do this would be to take a list of all genes (or, more correctly, all of those that were expressed in your sample) and get all possible combinations of 100 genes taken from that list.  Then you ask how many of those possible combinations have at least 15 immune-related genes.\n",
    "\n",
    "OK, so how do we get all possible combinations of 100 genes?  You could maybe imagine writing some for loop to come up with this.  However, this might be a little painful.  Thankfully, Python has a built-in function made to deal with such a case.  This function is called <font color = 'red'>combinations()</font> and it lives in the <font color = 'red'>itertools</font> package.\n",
    "\n",
    "Generally speaking, combinations are a choice of *n* items from a list (or any iterable) of *k* items.  The combinations() function takes two required arguments: an iterable (k) and an integer number of items to draw from it (n). Typing\n",
    "\n",
    "    combinations(k, n)\n",
    "    \n",
    "returns a \"combinations object\" that contains all possible groups of length n in the iterable k. It is easily turned into a list for inspection.\n",
    "\n",
    "    list(combinations(k, n))"
   ]
  },
  {
   "cell_type": "code",
   "execution_count": 8,
   "metadata": {},
   "outputs": [
    {
     "name": "stdout",
     "output_type": "stream",
     "text": [
      "[('Peter', 'Andrew', 'James', 'John'), ('Peter', 'Andrew', 'James', 'Philip'), ('Peter', 'Andrew', 'James', 'Thaddeus'), ('Peter', 'Andrew', 'James', 'Bartholomew'), ('Peter', 'Andrew', 'James', 'OtherJames'), ('Peter', 'Andrew', 'James', 'Matthew'), ('Peter', 'Andrew', 'James', 'Simon'), ('Peter', 'Andrew', 'James', 'Judas'), ('Peter', 'Andrew', 'John', 'Philip'), ('Peter', 'Andrew', 'John', 'Thaddeus'), ('Peter', 'Andrew', 'John', 'Bartholomew'), ('Peter', 'Andrew', 'John', 'OtherJames'), ('Peter', 'Andrew', 'John', 'Matthew'), ('Peter', 'Andrew', 'John', 'Simon'), ('Peter', 'Andrew', 'John', 'Judas'), ('Peter', 'Andrew', 'Philip', 'Thaddeus'), ('Peter', 'Andrew', 'Philip', 'Bartholomew'), ('Peter', 'Andrew', 'Philip', 'OtherJames'), ('Peter', 'Andrew', 'Philip', 'Matthew'), ('Peter', 'Andrew', 'Philip', 'Simon'), ('Peter', 'Andrew', 'Philip', 'Judas'), ('Peter', 'Andrew', 'Thaddeus', 'Bartholomew'), ('Peter', 'Andrew', 'Thaddeus', 'OtherJames'), ('Peter', 'Andrew', 'Thaddeus', 'Matthew'), ('Peter', 'Andrew', 'Thaddeus', 'Simon'), ('Peter', 'Andrew', 'Thaddeus', 'Judas'), ('Peter', 'Andrew', 'Bartholomew', 'OtherJames'), ('Peter', 'Andrew', 'Bartholomew', 'Matthew'), ('Peter', 'Andrew', 'Bartholomew', 'Simon'), ('Peter', 'Andrew', 'Bartholomew', 'Judas'), ('Peter', 'Andrew', 'OtherJames', 'Matthew'), ('Peter', 'Andrew', 'OtherJames', 'Simon'), ('Peter', 'Andrew', 'OtherJames', 'Judas'), ('Peter', 'Andrew', 'Matthew', 'Simon'), ('Peter', 'Andrew', 'Matthew', 'Judas'), ('Peter', 'Andrew', 'Simon', 'Judas'), ('Peter', 'James', 'John', 'Philip'), ('Peter', 'James', 'John', 'Thaddeus'), ('Peter', 'James', 'John', 'Bartholomew'), ('Peter', 'James', 'John', 'OtherJames'), ('Peter', 'James', 'John', 'Matthew'), ('Peter', 'James', 'John', 'Simon'), ('Peter', 'James', 'John', 'Judas'), ('Peter', 'James', 'Philip', 'Thaddeus'), ('Peter', 'James', 'Philip', 'Bartholomew'), ('Peter', 'James', 'Philip', 'OtherJames'), ('Peter', 'James', 'Philip', 'Matthew'), ('Peter', 'James', 'Philip', 'Simon'), ('Peter', 'James', 'Philip', 'Judas'), ('Peter', 'James', 'Thaddeus', 'Bartholomew'), ('Peter', 'James', 'Thaddeus', 'OtherJames'), ('Peter', 'James', 'Thaddeus', 'Matthew'), ('Peter', 'James', 'Thaddeus', 'Simon'), ('Peter', 'James', 'Thaddeus', 'Judas'), ('Peter', 'James', 'Bartholomew', 'OtherJames'), ('Peter', 'James', 'Bartholomew', 'Matthew'), ('Peter', 'James', 'Bartholomew', 'Simon'), ('Peter', 'James', 'Bartholomew', 'Judas'), ('Peter', 'James', 'OtherJames', 'Matthew'), ('Peter', 'James', 'OtherJames', 'Simon'), ('Peter', 'James', 'OtherJames', 'Judas'), ('Peter', 'James', 'Matthew', 'Simon'), ('Peter', 'James', 'Matthew', 'Judas'), ('Peter', 'James', 'Simon', 'Judas'), ('Peter', 'John', 'Philip', 'Thaddeus'), ('Peter', 'John', 'Philip', 'Bartholomew'), ('Peter', 'John', 'Philip', 'OtherJames'), ('Peter', 'John', 'Philip', 'Matthew'), ('Peter', 'John', 'Philip', 'Simon'), ('Peter', 'John', 'Philip', 'Judas'), ('Peter', 'John', 'Thaddeus', 'Bartholomew'), ('Peter', 'John', 'Thaddeus', 'OtherJames'), ('Peter', 'John', 'Thaddeus', 'Matthew'), ('Peter', 'John', 'Thaddeus', 'Simon'), ('Peter', 'John', 'Thaddeus', 'Judas'), ('Peter', 'John', 'Bartholomew', 'OtherJames'), ('Peter', 'John', 'Bartholomew', 'Matthew'), ('Peter', 'John', 'Bartholomew', 'Simon'), ('Peter', 'John', 'Bartholomew', 'Judas'), ('Peter', 'John', 'OtherJames', 'Matthew'), ('Peter', 'John', 'OtherJames', 'Simon'), ('Peter', 'John', 'OtherJames', 'Judas'), ('Peter', 'John', 'Matthew', 'Simon'), ('Peter', 'John', 'Matthew', 'Judas'), ('Peter', 'John', 'Simon', 'Judas'), ('Peter', 'Philip', 'Thaddeus', 'Bartholomew'), ('Peter', 'Philip', 'Thaddeus', 'OtherJames'), ('Peter', 'Philip', 'Thaddeus', 'Matthew'), ('Peter', 'Philip', 'Thaddeus', 'Simon'), ('Peter', 'Philip', 'Thaddeus', 'Judas'), ('Peter', 'Philip', 'Bartholomew', 'OtherJames'), ('Peter', 'Philip', 'Bartholomew', 'Matthew'), ('Peter', 'Philip', 'Bartholomew', 'Simon'), ('Peter', 'Philip', 'Bartholomew', 'Judas'), ('Peter', 'Philip', 'OtherJames', 'Matthew'), ('Peter', 'Philip', 'OtherJames', 'Simon'), ('Peter', 'Philip', 'OtherJames', 'Judas'), ('Peter', 'Philip', 'Matthew', 'Simon'), ('Peter', 'Philip', 'Matthew', 'Judas'), ('Peter', 'Philip', 'Simon', 'Judas'), ('Peter', 'Thaddeus', 'Bartholomew', 'OtherJames'), ('Peter', 'Thaddeus', 'Bartholomew', 'Matthew'), ('Peter', 'Thaddeus', 'Bartholomew', 'Simon'), ('Peter', 'Thaddeus', 'Bartholomew', 'Judas'), ('Peter', 'Thaddeus', 'OtherJames', 'Matthew'), ('Peter', 'Thaddeus', 'OtherJames', 'Simon'), ('Peter', 'Thaddeus', 'OtherJames', 'Judas'), ('Peter', 'Thaddeus', 'Matthew', 'Simon'), ('Peter', 'Thaddeus', 'Matthew', 'Judas'), ('Peter', 'Thaddeus', 'Simon', 'Judas'), ('Peter', 'Bartholomew', 'OtherJames', 'Matthew'), ('Peter', 'Bartholomew', 'OtherJames', 'Simon'), ('Peter', 'Bartholomew', 'OtherJames', 'Judas'), ('Peter', 'Bartholomew', 'Matthew', 'Simon'), ('Peter', 'Bartholomew', 'Matthew', 'Judas'), ('Peter', 'Bartholomew', 'Simon', 'Judas'), ('Peter', 'OtherJames', 'Matthew', 'Simon'), ('Peter', 'OtherJames', 'Matthew', 'Judas'), ('Peter', 'OtherJames', 'Simon', 'Judas'), ('Peter', 'Matthew', 'Simon', 'Judas'), ('Andrew', 'James', 'John', 'Philip'), ('Andrew', 'James', 'John', 'Thaddeus'), ('Andrew', 'James', 'John', 'Bartholomew'), ('Andrew', 'James', 'John', 'OtherJames'), ('Andrew', 'James', 'John', 'Matthew'), ('Andrew', 'James', 'John', 'Simon'), ('Andrew', 'James', 'John', 'Judas'), ('Andrew', 'James', 'Philip', 'Thaddeus'), ('Andrew', 'James', 'Philip', 'Bartholomew'), ('Andrew', 'James', 'Philip', 'OtherJames'), ('Andrew', 'James', 'Philip', 'Matthew'), ('Andrew', 'James', 'Philip', 'Simon'), ('Andrew', 'James', 'Philip', 'Judas'), ('Andrew', 'James', 'Thaddeus', 'Bartholomew'), ('Andrew', 'James', 'Thaddeus', 'OtherJames'), ('Andrew', 'James', 'Thaddeus', 'Matthew'), ('Andrew', 'James', 'Thaddeus', 'Simon'), ('Andrew', 'James', 'Thaddeus', 'Judas'), ('Andrew', 'James', 'Bartholomew', 'OtherJames'), ('Andrew', 'James', 'Bartholomew', 'Matthew'), ('Andrew', 'James', 'Bartholomew', 'Simon'), ('Andrew', 'James', 'Bartholomew', 'Judas'), ('Andrew', 'James', 'OtherJames', 'Matthew'), ('Andrew', 'James', 'OtherJames', 'Simon'), ('Andrew', 'James', 'OtherJames', 'Judas'), ('Andrew', 'James', 'Matthew', 'Simon'), ('Andrew', 'James', 'Matthew', 'Judas'), ('Andrew', 'James', 'Simon', 'Judas'), ('Andrew', 'John', 'Philip', 'Thaddeus'), ('Andrew', 'John', 'Philip', 'Bartholomew'), ('Andrew', 'John', 'Philip', 'OtherJames'), ('Andrew', 'John', 'Philip', 'Matthew'), ('Andrew', 'John', 'Philip', 'Simon'), ('Andrew', 'John', 'Philip', 'Judas'), ('Andrew', 'John', 'Thaddeus', 'Bartholomew'), ('Andrew', 'John', 'Thaddeus', 'OtherJames'), ('Andrew', 'John', 'Thaddeus', 'Matthew'), ('Andrew', 'John', 'Thaddeus', 'Simon'), ('Andrew', 'John', 'Thaddeus', 'Judas'), ('Andrew', 'John', 'Bartholomew', 'OtherJames'), ('Andrew', 'John', 'Bartholomew', 'Matthew'), ('Andrew', 'John', 'Bartholomew', 'Simon'), ('Andrew', 'John', 'Bartholomew', 'Judas'), ('Andrew', 'John', 'OtherJames', 'Matthew'), ('Andrew', 'John', 'OtherJames', 'Simon'), ('Andrew', 'John', 'OtherJames', 'Judas'), ('Andrew', 'John', 'Matthew', 'Simon'), ('Andrew', 'John', 'Matthew', 'Judas'), ('Andrew', 'John', 'Simon', 'Judas'), ('Andrew', 'Philip', 'Thaddeus', 'Bartholomew'), ('Andrew', 'Philip', 'Thaddeus', 'OtherJames'), ('Andrew', 'Philip', 'Thaddeus', 'Matthew'), ('Andrew', 'Philip', 'Thaddeus', 'Simon'), ('Andrew', 'Philip', 'Thaddeus', 'Judas'), ('Andrew', 'Philip', 'Bartholomew', 'OtherJames'), ('Andrew', 'Philip', 'Bartholomew', 'Matthew'), ('Andrew', 'Philip', 'Bartholomew', 'Simon'), ('Andrew', 'Philip', 'Bartholomew', 'Judas'), ('Andrew', 'Philip', 'OtherJames', 'Matthew'), ('Andrew', 'Philip', 'OtherJames', 'Simon'), ('Andrew', 'Philip', 'OtherJames', 'Judas'), ('Andrew', 'Philip', 'Matthew', 'Simon'), ('Andrew', 'Philip', 'Matthew', 'Judas'), ('Andrew', 'Philip', 'Simon', 'Judas'), ('Andrew', 'Thaddeus', 'Bartholomew', 'OtherJames'), ('Andrew', 'Thaddeus', 'Bartholomew', 'Matthew'), ('Andrew', 'Thaddeus', 'Bartholomew', 'Simon'), ('Andrew', 'Thaddeus', 'Bartholomew', 'Judas'), ('Andrew', 'Thaddeus', 'OtherJames', 'Matthew'), ('Andrew', 'Thaddeus', 'OtherJames', 'Simon'), ('Andrew', 'Thaddeus', 'OtherJames', 'Judas'), ('Andrew', 'Thaddeus', 'Matthew', 'Simon'), ('Andrew', 'Thaddeus', 'Matthew', 'Judas'), ('Andrew', 'Thaddeus', 'Simon', 'Judas'), ('Andrew', 'Bartholomew', 'OtherJames', 'Matthew'), ('Andrew', 'Bartholomew', 'OtherJames', 'Simon'), ('Andrew', 'Bartholomew', 'OtherJames', 'Judas'), ('Andrew', 'Bartholomew', 'Matthew', 'Simon'), ('Andrew', 'Bartholomew', 'Matthew', 'Judas'), ('Andrew', 'Bartholomew', 'Simon', 'Judas'), ('Andrew', 'OtherJames', 'Matthew', 'Simon'), ('Andrew', 'OtherJames', 'Matthew', 'Judas'), ('Andrew', 'OtherJames', 'Simon', 'Judas'), ('Andrew', 'Matthew', 'Simon', 'Judas'), ('James', 'John', 'Philip', 'Thaddeus'), ('James', 'John', 'Philip', 'Bartholomew'), ('James', 'John', 'Philip', 'OtherJames'), ('James', 'John', 'Philip', 'Matthew'), ('James', 'John', 'Philip', 'Simon'), ('James', 'John', 'Philip', 'Judas'), ('James', 'John', 'Thaddeus', 'Bartholomew'), ('James', 'John', 'Thaddeus', 'OtherJames'), ('James', 'John', 'Thaddeus', 'Matthew'), ('James', 'John', 'Thaddeus', 'Simon'), ('James', 'John', 'Thaddeus', 'Judas'), ('James', 'John', 'Bartholomew', 'OtherJames'), ('James', 'John', 'Bartholomew', 'Matthew'), ('James', 'John', 'Bartholomew', 'Simon'), ('James', 'John', 'Bartholomew', 'Judas'), ('James', 'John', 'OtherJames', 'Matthew'), ('James', 'John', 'OtherJames', 'Simon'), ('James', 'John', 'OtherJames', 'Judas'), ('James', 'John', 'Matthew', 'Simon'), ('James', 'John', 'Matthew', 'Judas'), ('James', 'John', 'Simon', 'Judas'), ('James', 'Philip', 'Thaddeus', 'Bartholomew'), ('James', 'Philip', 'Thaddeus', 'OtherJames'), ('James', 'Philip', 'Thaddeus', 'Matthew'), ('James', 'Philip', 'Thaddeus', 'Simon'), ('James', 'Philip', 'Thaddeus', 'Judas'), ('James', 'Philip', 'Bartholomew', 'OtherJames'), ('James', 'Philip', 'Bartholomew', 'Matthew'), ('James', 'Philip', 'Bartholomew', 'Simon'), ('James', 'Philip', 'Bartholomew', 'Judas'), ('James', 'Philip', 'OtherJames', 'Matthew'), ('James', 'Philip', 'OtherJames', 'Simon'), ('James', 'Philip', 'OtherJames', 'Judas'), ('James', 'Philip', 'Matthew', 'Simon'), ('James', 'Philip', 'Matthew', 'Judas'), ('James', 'Philip', 'Simon', 'Judas'), ('James', 'Thaddeus', 'Bartholomew', 'OtherJames'), ('James', 'Thaddeus', 'Bartholomew', 'Matthew'), ('James', 'Thaddeus', 'Bartholomew', 'Simon'), ('James', 'Thaddeus', 'Bartholomew', 'Judas'), ('James', 'Thaddeus', 'OtherJames', 'Matthew'), ('James', 'Thaddeus', 'OtherJames', 'Simon'), ('James', 'Thaddeus', 'OtherJames', 'Judas'), ('James', 'Thaddeus', 'Matthew', 'Simon'), ('James', 'Thaddeus', 'Matthew', 'Judas'), ('James', 'Thaddeus', 'Simon', 'Judas'), ('James', 'Bartholomew', 'OtherJames', 'Matthew'), ('James', 'Bartholomew', 'OtherJames', 'Simon'), ('James', 'Bartholomew', 'OtherJames', 'Judas'), ('James', 'Bartholomew', 'Matthew', 'Simon'), ('James', 'Bartholomew', 'Matthew', 'Judas'), ('James', 'Bartholomew', 'Simon', 'Judas'), ('James', 'OtherJames', 'Matthew', 'Simon'), ('James', 'OtherJames', 'Matthew', 'Judas'), ('James', 'OtherJames', 'Simon', 'Judas'), ('James', 'Matthew', 'Simon', 'Judas'), ('John', 'Philip', 'Thaddeus', 'Bartholomew'), ('John', 'Philip', 'Thaddeus', 'OtherJames'), ('John', 'Philip', 'Thaddeus', 'Matthew'), ('John', 'Philip', 'Thaddeus', 'Simon'), ('John', 'Philip', 'Thaddeus', 'Judas'), ('John', 'Philip', 'Bartholomew', 'OtherJames'), ('John', 'Philip', 'Bartholomew', 'Matthew'), ('John', 'Philip', 'Bartholomew', 'Simon'), ('John', 'Philip', 'Bartholomew', 'Judas'), ('John', 'Philip', 'OtherJames', 'Matthew'), ('John', 'Philip', 'OtherJames', 'Simon'), ('John', 'Philip', 'OtherJames', 'Judas'), ('John', 'Philip', 'Matthew', 'Simon'), ('John', 'Philip', 'Matthew', 'Judas'), ('John', 'Philip', 'Simon', 'Judas'), ('John', 'Thaddeus', 'Bartholomew', 'OtherJames'), ('John', 'Thaddeus', 'Bartholomew', 'Matthew'), ('John', 'Thaddeus', 'Bartholomew', 'Simon'), ('John', 'Thaddeus', 'Bartholomew', 'Judas'), ('John', 'Thaddeus', 'OtherJames', 'Matthew'), ('John', 'Thaddeus', 'OtherJames', 'Simon'), ('John', 'Thaddeus', 'OtherJames', 'Judas'), ('John', 'Thaddeus', 'Matthew', 'Simon'), ('John', 'Thaddeus', 'Matthew', 'Judas'), ('John', 'Thaddeus', 'Simon', 'Judas'), ('John', 'Bartholomew', 'OtherJames', 'Matthew'), ('John', 'Bartholomew', 'OtherJames', 'Simon'), ('John', 'Bartholomew', 'OtherJames', 'Judas'), ('John', 'Bartholomew', 'Matthew', 'Simon'), ('John', 'Bartholomew', 'Matthew', 'Judas'), ('John', 'Bartholomew', 'Simon', 'Judas'), ('John', 'OtherJames', 'Matthew', 'Simon'), ('John', 'OtherJames', 'Matthew', 'Judas'), ('John', 'OtherJames', 'Simon', 'Judas'), ('John', 'Matthew', 'Simon', 'Judas'), ('Philip', 'Thaddeus', 'Bartholomew', 'OtherJames'), ('Philip', 'Thaddeus', 'Bartholomew', 'Matthew'), ('Philip', 'Thaddeus', 'Bartholomew', 'Simon'), ('Philip', 'Thaddeus', 'Bartholomew', 'Judas'), ('Philip', 'Thaddeus', 'OtherJames', 'Matthew'), ('Philip', 'Thaddeus', 'OtherJames', 'Simon'), ('Philip', 'Thaddeus', 'OtherJames', 'Judas'), ('Philip', 'Thaddeus', 'Matthew', 'Simon'), ('Philip', 'Thaddeus', 'Matthew', 'Judas'), ('Philip', 'Thaddeus', 'Simon', 'Judas'), ('Philip', 'Bartholomew', 'OtherJames', 'Matthew'), ('Philip', 'Bartholomew', 'OtherJames', 'Simon'), ('Philip', 'Bartholomew', 'OtherJames', 'Judas'), ('Philip', 'Bartholomew', 'Matthew', 'Simon'), ('Philip', 'Bartholomew', 'Matthew', 'Judas'), ('Philip', 'Bartholomew', 'Simon', 'Judas'), ('Philip', 'OtherJames', 'Matthew', 'Simon'), ('Philip', 'OtherJames', 'Matthew', 'Judas'), ('Philip', 'OtherJames', 'Simon', 'Judas'), ('Philip', 'Matthew', 'Simon', 'Judas'), ('Thaddeus', 'Bartholomew', 'OtherJames', 'Matthew'), ('Thaddeus', 'Bartholomew', 'OtherJames', 'Simon'), ('Thaddeus', 'Bartholomew', 'OtherJames', 'Judas'), ('Thaddeus', 'Bartholomew', 'Matthew', 'Simon'), ('Thaddeus', 'Bartholomew', 'Matthew', 'Judas'), ('Thaddeus', 'Bartholomew', 'Simon', 'Judas'), ('Thaddeus', 'OtherJames', 'Matthew', 'Simon'), ('Thaddeus', 'OtherJames', 'Matthew', 'Judas'), ('Thaddeus', 'OtherJames', 'Simon', 'Judas'), ('Thaddeus', 'Matthew', 'Simon', 'Judas'), ('Bartholomew', 'OtherJames', 'Matthew', 'Simon'), ('Bartholomew', 'OtherJames', 'Matthew', 'Judas'), ('Bartholomew', 'OtherJames', 'Simon', 'Judas'), ('Bartholomew', 'Matthew', 'Simon', 'Judas'), ('OtherJames', 'Matthew', 'Simon', 'Judas')]\n",
      "330\n"
     ]
    }
   ],
   "source": [
    "#How many ways can you arrange people at a dinner party (perhaps a...final...dinner) into tables?\n",
    "\n",
    "guests = ['Peter', 'Andrew', 'James', 'John', 'Philip', 'Thaddeus', \n",
    "          'Bartholomew', 'OtherJames', 'Matthew', 'Simon', 'Judas']\n",
    "\n",
    "#4 guests per table\n",
    "\n",
    "#We have to import combinations from the itertools package\n",
    "from itertools import combinations as comb\n",
    "\n",
    "tables = comb(guests, 4)\n",
    "#tables is now a \"combinations object\" but we can turn it into a list\n",
    "tables = list(tables)\n",
    "print(tables)\n",
    "#Each table in tables is a 'tuple'. \n",
    "#We didn't cover what these are, but they are essentially equivalent to lists but they are *immutable*.\n",
    "print(len(tables))"
   ]
  },
  {
   "cell_type": "markdown",
   "metadata": {},
   "source": [
    "## Permutations\n",
    "\n",
    "Permutations of an iterable are shuffles of its order.\n",
    "\n",
    "The itertools function <font color = 'red'>permutations()</font> will return a \"permutations object\", that just like the combinations object, can be easily turned into a list of all possible permutations of an iterable."
   ]
  },
  {
   "cell_type": "code",
   "execution_count": 12,
   "metadata": {},
   "outputs": [
    {
     "name": "stdout",
     "output_type": "stream",
     "text": [
      "[('A', 'T', 'C', 'G', 'A', 'T'), ('A', 'T', 'C', 'G', 'T', 'A'), ('A', 'T', 'C', 'A', 'G', 'T'), ('A', 'T', 'C', 'A', 'T', 'G'), ('A', 'T', 'C', 'T', 'G', 'A'), ('A', 'T', 'C', 'T', 'A', 'G'), ('A', 'T', 'G', 'C', 'A', 'T'), ('A', 'T', 'G', 'C', 'T', 'A'), ('A', 'T', 'G', 'A', 'C', 'T'), ('A', 'T', 'G', 'A', 'T', 'C'), ('A', 'T', 'G', 'T', 'C', 'A'), ('A', 'T', 'G', 'T', 'A', 'C'), ('A', 'T', 'A', 'C', 'G', 'T'), ('A', 'T', 'A', 'C', 'T', 'G'), ('A', 'T', 'A', 'G', 'C', 'T'), ('A', 'T', 'A', 'G', 'T', 'C'), ('A', 'T', 'A', 'T', 'C', 'G'), ('A', 'T', 'A', 'T', 'G', 'C'), ('A', 'T', 'T', 'C', 'G', 'A'), ('A', 'T', 'T', 'C', 'A', 'G'), ('A', 'T', 'T', 'G', 'C', 'A'), ('A', 'T', 'T', 'G', 'A', 'C'), ('A', 'T', 'T', 'A', 'C', 'G'), ('A', 'T', 'T', 'A', 'G', 'C'), ('A', 'C', 'T', 'G', 'A', 'T'), ('A', 'C', 'T', 'G', 'T', 'A'), ('A', 'C', 'T', 'A', 'G', 'T'), ('A', 'C', 'T', 'A', 'T', 'G'), ('A', 'C', 'T', 'T', 'G', 'A'), ('A', 'C', 'T', 'T', 'A', 'G'), ('A', 'C', 'G', 'T', 'A', 'T'), ('A', 'C', 'G', 'T', 'T', 'A'), ('A', 'C', 'G', 'A', 'T', 'T'), ('A', 'C', 'G', 'A', 'T', 'T'), ('A', 'C', 'G', 'T', 'T', 'A'), ('A', 'C', 'G', 'T', 'A', 'T'), ('A', 'C', 'A', 'T', 'G', 'T'), ('A', 'C', 'A', 'T', 'T', 'G'), ('A', 'C', 'A', 'G', 'T', 'T'), ('A', 'C', 'A', 'G', 'T', 'T'), ('A', 'C', 'A', 'T', 'T', 'G'), ('A', 'C', 'A', 'T', 'G', 'T'), ('A', 'C', 'T', 'T', 'G', 'A'), ('A', 'C', 'T', 'T', 'A', 'G'), ('A', 'C', 'T', 'G', 'T', 'A'), ('A', 'C', 'T', 'G', 'A', 'T'), ('A', 'C', 'T', 'A', 'T', 'G'), ('A', 'C', 'T', 'A', 'G', 'T'), ('A', 'G', 'T', 'C', 'A', 'T'), ('A', 'G', 'T', 'C', 'T', 'A'), ('A', 'G', 'T', 'A', 'C', 'T'), ('A', 'G', 'T', 'A', 'T', 'C'), ('A', 'G', 'T', 'T', 'C', 'A'), ('A', 'G', 'T', 'T', 'A', 'C'), ('A', 'G', 'C', 'T', 'A', 'T'), ('A', 'G', 'C', 'T', 'T', 'A'), ('A', 'G', 'C', 'A', 'T', 'T'), ('A', 'G', 'C', 'A', 'T', 'T'), ('A', 'G', 'C', 'T', 'T', 'A'), ('A', 'G', 'C', 'T', 'A', 'T'), ('A', 'G', 'A', 'T', 'C', 'T'), ('A', 'G', 'A', 'T', 'T', 'C'), ('A', 'G', 'A', 'C', 'T', 'T'), ('A', 'G', 'A', 'C', 'T', 'T'), ('A', 'G', 'A', 'T', 'T', 'C'), ('A', 'G', 'A', 'T', 'C', 'T'), ('A', 'G', 'T', 'T', 'C', 'A'), ('A', 'G', 'T', 'T', 'A', 'C'), ('A', 'G', 'T', 'C', 'T', 'A'), ('A', 'G', 'T', 'C', 'A', 'T'), ('A', 'G', 'T', 'A', 'T', 'C'), ('A', 'G', 'T', 'A', 'C', 'T'), ('A', 'A', 'T', 'C', 'G', 'T'), ('A', 'A', 'T', 'C', 'T', 'G'), ('A', 'A', 'T', 'G', 'C', 'T'), ('A', 'A', 'T', 'G', 'T', 'C'), ('A', 'A', 'T', 'T', 'C', 'G'), ('A', 'A', 'T', 'T', 'G', 'C'), ('A', 'A', 'C', 'T', 'G', 'T'), ('A', 'A', 'C', 'T', 'T', 'G'), ('A', 'A', 'C', 'G', 'T', 'T'), ('A', 'A', 'C', 'G', 'T', 'T'), ('A', 'A', 'C', 'T', 'T', 'G'), ('A', 'A', 'C', 'T', 'G', 'T'), ('A', 'A', 'G', 'T', 'C', 'T'), ('A', 'A', 'G', 'T', 'T', 'C'), ('A', 'A', 'G', 'C', 'T', 'T'), ('A', 'A', 'G', 'C', 'T', 'T'), ('A', 'A', 'G', 'T', 'T', 'C'), ('A', 'A', 'G', 'T', 'C', 'T'), ('A', 'A', 'T', 'T', 'C', 'G'), ('A', 'A', 'T', 'T', 'G', 'C'), ('A', 'A', 'T', 'C', 'T', 'G'), ('A', 'A', 'T', 'C', 'G', 'T'), ('A', 'A', 'T', 'G', 'T', 'C'), ('A', 'A', 'T', 'G', 'C', 'T'), ('A', 'T', 'T', 'C', 'G', 'A'), ('A', 'T', 'T', 'C', 'A', 'G'), ('A', 'T', 'T', 'G', 'C', 'A'), ('A', 'T', 'T', 'G', 'A', 'C'), ('A', 'T', 'T', 'A', 'C', 'G'), ('A', 'T', 'T', 'A', 'G', 'C'), ('A', 'T', 'C', 'T', 'G', 'A'), ('A', 'T', 'C', 'T', 'A', 'G'), ('A', 'T', 'C', 'G', 'T', 'A'), ('A', 'T', 'C', 'G', 'A', 'T'), ('A', 'T', 'C', 'A', 'T', 'G'), ('A', 'T', 'C', 'A', 'G', 'T'), ('A', 'T', 'G', 'T', 'C', 'A'), ('A', 'T', 'G', 'T', 'A', 'C'), ('A', 'T', 'G', 'C', 'T', 'A'), ('A', 'T', 'G', 'C', 'A', 'T'), ('A', 'T', 'G', 'A', 'T', 'C'), ('A', 'T', 'G', 'A', 'C', 'T'), ('A', 'T', 'A', 'T', 'C', 'G'), ('A', 'T', 'A', 'T', 'G', 'C'), ('A', 'T', 'A', 'C', 'T', 'G'), ('A', 'T', 'A', 'C', 'G', 'T'), ('A', 'T', 'A', 'G', 'T', 'C'), ('A', 'T', 'A', 'G', 'C', 'T'), ('T', 'A', 'C', 'G', 'A', 'T'), ('T', 'A', 'C', 'G', 'T', 'A'), ('T', 'A', 'C', 'A', 'G', 'T'), ('T', 'A', 'C', 'A', 'T', 'G'), ('T', 'A', 'C', 'T', 'G', 'A'), ('T', 'A', 'C', 'T', 'A', 'G'), ('T', 'A', 'G', 'C', 'A', 'T'), ('T', 'A', 'G', 'C', 'T', 'A'), ('T', 'A', 'G', 'A', 'C', 'T'), ('T', 'A', 'G', 'A', 'T', 'C'), ('T', 'A', 'G', 'T', 'C', 'A'), ('T', 'A', 'G', 'T', 'A', 'C'), ('T', 'A', 'A', 'C', 'G', 'T'), ('T', 'A', 'A', 'C', 'T', 'G'), ('T', 'A', 'A', 'G', 'C', 'T'), ('T', 'A', 'A', 'G', 'T', 'C'), ('T', 'A', 'A', 'T', 'C', 'G'), ('T', 'A', 'A', 'T', 'G', 'C'), ('T', 'A', 'T', 'C', 'G', 'A'), ('T', 'A', 'T', 'C', 'A', 'G'), ('T', 'A', 'T', 'G', 'C', 'A'), ('T', 'A', 'T', 'G', 'A', 'C'), ('T', 'A', 'T', 'A', 'C', 'G'), ('T', 'A', 'T', 'A', 'G', 'C'), ('T', 'C', 'A', 'G', 'A', 'T'), ('T', 'C', 'A', 'G', 'T', 'A'), ('T', 'C', 'A', 'A', 'G', 'T'), ('T', 'C', 'A', 'A', 'T', 'G'), ('T', 'C', 'A', 'T', 'G', 'A'), ('T', 'C', 'A', 'T', 'A', 'G'), ('T', 'C', 'G', 'A', 'A', 'T'), ('T', 'C', 'G', 'A', 'T', 'A'), ('T', 'C', 'G', 'A', 'A', 'T'), ('T', 'C', 'G', 'A', 'T', 'A'), ('T', 'C', 'G', 'T', 'A', 'A'), ('T', 'C', 'G', 'T', 'A', 'A'), ('T', 'C', 'A', 'A', 'G', 'T'), ('T', 'C', 'A', 'A', 'T', 'G'), ('T', 'C', 'A', 'G', 'A', 'T'), ('T', 'C', 'A', 'G', 'T', 'A'), ('T', 'C', 'A', 'T', 'A', 'G'), ('T', 'C', 'A', 'T', 'G', 'A'), ('T', 'C', 'T', 'A', 'G', 'A'), ('T', 'C', 'T', 'A', 'A', 'G'), ('T', 'C', 'T', 'G', 'A', 'A'), ('T', 'C', 'T', 'G', 'A', 'A'), ('T', 'C', 'T', 'A', 'A', 'G'), ('T', 'C', 'T', 'A', 'G', 'A'), ('T', 'G', 'A', 'C', 'A', 'T'), ('T', 'G', 'A', 'C', 'T', 'A'), ('T', 'G', 'A', 'A', 'C', 'T'), ('T', 'G', 'A', 'A', 'T', 'C'), ('T', 'G', 'A', 'T', 'C', 'A'), ('T', 'G', 'A', 'T', 'A', 'C'), ('T', 'G', 'C', 'A', 'A', 'T'), ('T', 'G', 'C', 'A', 'T', 'A'), ('T', 'G', 'C', 'A', 'A', 'T'), ('T', 'G', 'C', 'A', 'T', 'A'), ('T', 'G', 'C', 'T', 'A', 'A'), ('T', 'G', 'C', 'T', 'A', 'A'), ('T', 'G', 'A', 'A', 'C', 'T'), ('T', 'G', 'A', 'A', 'T', 'C'), ('T', 'G', 'A', 'C', 'A', 'T'), ('T', 'G', 'A', 'C', 'T', 'A'), ('T', 'G', 'A', 'T', 'A', 'C'), ('T', 'G', 'A', 'T', 'C', 'A'), ('T', 'G', 'T', 'A', 'C', 'A'), ('T', 'G', 'T', 'A', 'A', 'C'), ('T', 'G', 'T', 'C', 'A', 'A'), ('T', 'G', 'T', 'C', 'A', 'A'), ('T', 'G', 'T', 'A', 'A', 'C'), ('T', 'G', 'T', 'A', 'C', 'A'), ('T', 'A', 'A', 'C', 'G', 'T'), ('T', 'A', 'A', 'C', 'T', 'G'), ('T', 'A', 'A', 'G', 'C', 'T'), ('T', 'A', 'A', 'G', 'T', 'C'), ('T', 'A', 'A', 'T', 'C', 'G'), ('T', 'A', 'A', 'T', 'G', 'C'), ('T', 'A', 'C', 'A', 'G', 'T'), ('T', 'A', 'C', 'A', 'T', 'G'), ('T', 'A', 'C', 'G', 'A', 'T'), ('T', 'A', 'C', 'G', 'T', 'A'), ('T', 'A', 'C', 'T', 'A', 'G'), ('T', 'A', 'C', 'T', 'G', 'A'), ('T', 'A', 'G', 'A', 'C', 'T'), ('T', 'A', 'G', 'A', 'T', 'C'), ('T', 'A', 'G', 'C', 'A', 'T'), ('T', 'A', 'G', 'C', 'T', 'A'), ('T', 'A', 'G', 'T', 'A', 'C'), ('T', 'A', 'G', 'T', 'C', 'A'), ('T', 'A', 'T', 'A', 'C', 'G'), ('T', 'A', 'T', 'A', 'G', 'C'), ('T', 'A', 'T', 'C', 'A', 'G'), ('T', 'A', 'T', 'C', 'G', 'A'), ('T', 'A', 'T', 'G', 'A', 'C'), ('T', 'A', 'T', 'G', 'C', 'A'), ('T', 'T', 'A', 'C', 'G', 'A'), ('T', 'T', 'A', 'C', 'A', 'G'), ('T', 'T', 'A', 'G', 'C', 'A'), ('T', 'T', 'A', 'G', 'A', 'C'), ('T', 'T', 'A', 'A', 'C', 'G'), ('T', 'T', 'A', 'A', 'G', 'C'), ('T', 'T', 'C', 'A', 'G', 'A'), ('T', 'T', 'C', 'A', 'A', 'G'), ('T', 'T', 'C', 'G', 'A', 'A'), ('T', 'T', 'C', 'G', 'A', 'A'), ('T', 'T', 'C', 'A', 'A', 'G'), ('T', 'T', 'C', 'A', 'G', 'A'), ('T', 'T', 'G', 'A', 'C', 'A'), ('T', 'T', 'G', 'A', 'A', 'C'), ('T', 'T', 'G', 'C', 'A', 'A'), ('T', 'T', 'G', 'C', 'A', 'A'), ('T', 'T', 'G', 'A', 'A', 'C'), ('T', 'T', 'G', 'A', 'C', 'A'), ('T', 'T', 'A', 'A', 'C', 'G'), ('T', 'T', 'A', 'A', 'G', 'C'), ('T', 'T', 'A', 'C', 'A', 'G'), ('T', 'T', 'A', 'C', 'G', 'A'), ('T', 'T', 'A', 'G', 'A', 'C'), ('T', 'T', 'A', 'G', 'C', 'A'), ('C', 'A', 'T', 'G', 'A', 'T'), ('C', 'A', 'T', 'G', 'T', 'A'), ('C', 'A', 'T', 'A', 'G', 'T'), ('C', 'A', 'T', 'A', 'T', 'G'), ('C', 'A', 'T', 'T', 'G', 'A'), ('C', 'A', 'T', 'T', 'A', 'G'), ('C', 'A', 'G', 'T', 'A', 'T'), ('C', 'A', 'G', 'T', 'T', 'A'), ('C', 'A', 'G', 'A', 'T', 'T'), ('C', 'A', 'G', 'A', 'T', 'T'), ('C', 'A', 'G', 'T', 'T', 'A'), ('C', 'A', 'G', 'T', 'A', 'T'), ('C', 'A', 'A', 'T', 'G', 'T'), ('C', 'A', 'A', 'T', 'T', 'G'), ('C', 'A', 'A', 'G', 'T', 'T'), ('C', 'A', 'A', 'G', 'T', 'T'), ('C', 'A', 'A', 'T', 'T', 'G'), ('C', 'A', 'A', 'T', 'G', 'T'), ('C', 'A', 'T', 'T', 'G', 'A'), ('C', 'A', 'T', 'T', 'A', 'G'), ('C', 'A', 'T', 'G', 'T', 'A'), ('C', 'A', 'T', 'G', 'A', 'T'), ('C', 'A', 'T', 'A', 'T', 'G'), ('C', 'A', 'T', 'A', 'G', 'T'), ('C', 'T', 'A', 'G', 'A', 'T'), ('C', 'T', 'A', 'G', 'T', 'A'), ('C', 'T', 'A', 'A', 'G', 'T'), ('C', 'T', 'A', 'A', 'T', 'G'), ('C', 'T', 'A', 'T', 'G', 'A'), ('C', 'T', 'A', 'T', 'A', 'G'), ('C', 'T', 'G', 'A', 'A', 'T'), ('C', 'T', 'G', 'A', 'T', 'A'), ('C', 'T', 'G', 'A', 'A', 'T'), ('C', 'T', 'G', 'A', 'T', 'A'), ('C', 'T', 'G', 'T', 'A', 'A'), ('C', 'T', 'G', 'T', 'A', 'A'), ('C', 'T', 'A', 'A', 'G', 'T'), ('C', 'T', 'A', 'A', 'T', 'G'), ('C', 'T', 'A', 'G', 'A', 'T'), ('C', 'T', 'A', 'G', 'T', 'A'), ('C', 'T', 'A', 'T', 'A', 'G'), ('C', 'T', 'A', 'T', 'G', 'A'), ('C', 'T', 'T', 'A', 'G', 'A'), ('C', 'T', 'T', 'A', 'A', 'G'), ('C', 'T', 'T', 'G', 'A', 'A'), ('C', 'T', 'T', 'G', 'A', 'A'), ('C', 'T', 'T', 'A', 'A', 'G'), ('C', 'T', 'T', 'A', 'G', 'A'), ('C', 'G', 'A', 'T', 'A', 'T'), ('C', 'G', 'A', 'T', 'T', 'A'), ('C', 'G', 'A', 'A', 'T', 'T'), ('C', 'G', 'A', 'A', 'T', 'T'), ('C', 'G', 'A', 'T', 'T', 'A'), ('C', 'G', 'A', 'T', 'A', 'T'), ('C', 'G', 'T', 'A', 'A', 'T'), ('C', 'G', 'T', 'A', 'T', 'A'), ('C', 'G', 'T', 'A', 'A', 'T'), ('C', 'G', 'T', 'A', 'T', 'A'), ('C', 'G', 'T', 'T', 'A', 'A'), ('C', 'G', 'T', 'T', 'A', 'A'), ('C', 'G', 'A', 'A', 'T', 'T'), ('C', 'G', 'A', 'A', 'T', 'T'), ('C', 'G', 'A', 'T', 'A', 'T'), ('C', 'G', 'A', 'T', 'T', 'A'), ('C', 'G', 'A', 'T', 'A', 'T'), ('C', 'G', 'A', 'T', 'T', 'A'), ('C', 'G', 'T', 'A', 'T', 'A'), ('C', 'G', 'T', 'A', 'A', 'T'), ('C', 'G', 'T', 'T', 'A', 'A'), ('C', 'G', 'T', 'T', 'A', 'A'), ('C', 'G', 'T', 'A', 'A', 'T'), ('C', 'G', 'T', 'A', 'T', 'A'), ('C', 'A', 'A', 'T', 'G', 'T'), ('C', 'A', 'A', 'T', 'T', 'G'), ('C', 'A', 'A', 'G', 'T', 'T'), ('C', 'A', 'A', 'G', 'T', 'T'), ('C', 'A', 'A', 'T', 'T', 'G'), ('C', 'A', 'A', 'T', 'G', 'T'), ('C', 'A', 'T', 'A', 'G', 'T'), ('C', 'A', 'T', 'A', 'T', 'G'), ('C', 'A', 'T', 'G', 'A', 'T'), ('C', 'A', 'T', 'G', 'T', 'A'), ('C', 'A', 'T', 'T', 'A', 'G'), ('C', 'A', 'T', 'T', 'G', 'A'), ('C', 'A', 'G', 'A', 'T', 'T'), ('C', 'A', 'G', 'A', 'T', 'T'), ('C', 'A', 'G', 'T', 'A', 'T'), ('C', 'A', 'G', 'T', 'T', 'A'), ('C', 'A', 'G', 'T', 'A', 'T'), ('C', 'A', 'G', 'T', 'T', 'A'), ('C', 'A', 'T', 'A', 'T', 'G'), ('C', 'A', 'T', 'A', 'G', 'T'), ('C', 'A', 'T', 'T', 'A', 'G'), ('C', 'A', 'T', 'T', 'G', 'A'), ('C', 'A', 'T', 'G', 'A', 'T'), ('C', 'A', 'T', 'G', 'T', 'A'), ('C', 'T', 'A', 'T', 'G', 'A'), ('C', 'T', 'A', 'T', 'A', 'G'), ('C', 'T', 'A', 'G', 'T', 'A'), ('C', 'T', 'A', 'G', 'A', 'T'), ('C', 'T', 'A', 'A', 'T', 'G'), ('C', 'T', 'A', 'A', 'G', 'T'), ('C', 'T', 'T', 'A', 'G', 'A'), ('C', 'T', 'T', 'A', 'A', 'G'), ('C', 'T', 'T', 'G', 'A', 'A'), ('C', 'T', 'T', 'G', 'A', 'A'), ('C', 'T', 'T', 'A', 'A', 'G'), ('C', 'T', 'T', 'A', 'G', 'A'), ('C', 'T', 'G', 'A', 'T', 'A'), ('C', 'T', 'G', 'A', 'A', 'T'), ('C', 'T', 'G', 'T', 'A', 'A'), ('C', 'T', 'G', 'T', 'A', 'A'), ('C', 'T', 'G', 'A', 'A', 'T'), ('C', 'T', 'G', 'A', 'T', 'A'), ('C', 'T', 'A', 'A', 'T', 'G'), ('C', 'T', 'A', 'A', 'G', 'T'), ('C', 'T', 'A', 'T', 'A', 'G'), ('C', 'T', 'A', 'T', 'G', 'A'), ('C', 'T', 'A', 'G', 'A', 'T'), ('C', 'T', 'A', 'G', 'T', 'A'), ('G', 'A', 'T', 'C', 'A', 'T'), ('G', 'A', 'T', 'C', 'T', 'A'), ('G', 'A', 'T', 'A', 'C', 'T'), ('G', 'A', 'T', 'A', 'T', 'C'), ('G', 'A', 'T', 'T', 'C', 'A'), ('G', 'A', 'T', 'T', 'A', 'C'), ('G', 'A', 'C', 'T', 'A', 'T'), ('G', 'A', 'C', 'T', 'T', 'A'), ('G', 'A', 'C', 'A', 'T', 'T'), ('G', 'A', 'C', 'A', 'T', 'T'), ('G', 'A', 'C', 'T', 'T', 'A'), ('G', 'A', 'C', 'T', 'A', 'T'), ('G', 'A', 'A', 'T', 'C', 'T'), ('G', 'A', 'A', 'T', 'T', 'C'), ('G', 'A', 'A', 'C', 'T', 'T'), ('G', 'A', 'A', 'C', 'T', 'T'), ('G', 'A', 'A', 'T', 'T', 'C'), ('G', 'A', 'A', 'T', 'C', 'T'), ('G', 'A', 'T', 'T', 'C', 'A'), ('G', 'A', 'T', 'T', 'A', 'C'), ('G', 'A', 'T', 'C', 'T', 'A'), ('G', 'A', 'T', 'C', 'A', 'T'), ('G', 'A', 'T', 'A', 'T', 'C'), ('G', 'A', 'T', 'A', 'C', 'T'), ('G', 'T', 'A', 'C', 'A', 'T'), ('G', 'T', 'A', 'C', 'T', 'A'), ('G', 'T', 'A', 'A', 'C', 'T'), ('G', 'T', 'A', 'A', 'T', 'C'), ('G', 'T', 'A', 'T', 'C', 'A'), ('G', 'T', 'A', 'T', 'A', 'C'), ('G', 'T', 'C', 'A', 'A', 'T'), ('G', 'T', 'C', 'A', 'T', 'A'), ('G', 'T', 'C', 'A', 'A', 'T'), ('G', 'T', 'C', 'A', 'T', 'A'), ('G', 'T', 'C', 'T', 'A', 'A'), ('G', 'T', 'C', 'T', 'A', 'A'), ('G', 'T', 'A', 'A', 'C', 'T'), ('G', 'T', 'A', 'A', 'T', 'C'), ('G', 'T', 'A', 'C', 'A', 'T'), ('G', 'T', 'A', 'C', 'T', 'A'), ('G', 'T', 'A', 'T', 'A', 'C'), ('G', 'T', 'A', 'T', 'C', 'A'), ('G', 'T', 'T', 'A', 'C', 'A'), ('G', 'T', 'T', 'A', 'A', 'C'), ('G', 'T', 'T', 'C', 'A', 'A'), ('G', 'T', 'T', 'C', 'A', 'A'), ('G', 'T', 'T', 'A', 'A', 'C'), ('G', 'T', 'T', 'A', 'C', 'A'), ('G', 'C', 'A', 'T', 'A', 'T'), ('G', 'C', 'A', 'T', 'T', 'A'), ('G', 'C', 'A', 'A', 'T', 'T'), ('G', 'C', 'A', 'A', 'T', 'T'), ('G', 'C', 'A', 'T', 'T', 'A'), ('G', 'C', 'A', 'T', 'A', 'T'), ('G', 'C', 'T', 'A', 'A', 'T'), ('G', 'C', 'T', 'A', 'T', 'A'), ('G', 'C', 'T', 'A', 'A', 'T'), ('G', 'C', 'T', 'A', 'T', 'A'), ('G', 'C', 'T', 'T', 'A', 'A'), ('G', 'C', 'T', 'T', 'A', 'A'), ('G', 'C', 'A', 'A', 'T', 'T'), ('G', 'C', 'A', 'A', 'T', 'T'), ('G', 'C', 'A', 'T', 'A', 'T'), ('G', 'C', 'A', 'T', 'T', 'A'), ('G', 'C', 'A', 'T', 'A', 'T'), ('G', 'C', 'A', 'T', 'T', 'A'), ('G', 'C', 'T', 'A', 'T', 'A'), ('G', 'C', 'T', 'A', 'A', 'T'), ('G', 'C', 'T', 'T', 'A', 'A'), ('G', 'C', 'T', 'T', 'A', 'A'), ('G', 'C', 'T', 'A', 'A', 'T'), ('G', 'C', 'T', 'A', 'T', 'A'), ('G', 'A', 'A', 'T', 'C', 'T'), ('G', 'A', 'A', 'T', 'T', 'C'), ('G', 'A', 'A', 'C', 'T', 'T'), ('G', 'A', 'A', 'C', 'T', 'T'), ('G', 'A', 'A', 'T', 'T', 'C'), ('G', 'A', 'A', 'T', 'C', 'T'), ('G', 'A', 'T', 'A', 'C', 'T'), ('G', 'A', 'T', 'A', 'T', 'C'), ('G', 'A', 'T', 'C', 'A', 'T'), ('G', 'A', 'T', 'C', 'T', 'A'), ('G', 'A', 'T', 'T', 'A', 'C'), ('G', 'A', 'T', 'T', 'C', 'A'), ('G', 'A', 'C', 'A', 'T', 'T'), ('G', 'A', 'C', 'A', 'T', 'T'), ('G', 'A', 'C', 'T', 'A', 'T'), ('G', 'A', 'C', 'T', 'T', 'A'), ('G', 'A', 'C', 'T', 'A', 'T'), ('G', 'A', 'C', 'T', 'T', 'A'), ('G', 'A', 'T', 'A', 'T', 'C'), ('G', 'A', 'T', 'A', 'C', 'T'), ('G', 'A', 'T', 'T', 'A', 'C'), ('G', 'A', 'T', 'T', 'C', 'A'), ('G', 'A', 'T', 'C', 'A', 'T'), ('G', 'A', 'T', 'C', 'T', 'A'), ('G', 'T', 'A', 'T', 'C', 'A'), ('G', 'T', 'A', 'T', 'A', 'C'), ('G', 'T', 'A', 'C', 'T', 'A'), ('G', 'T', 'A', 'C', 'A', 'T'), ('G', 'T', 'A', 'A', 'T', 'C'), ('G', 'T', 'A', 'A', 'C', 'T'), ('G', 'T', 'T', 'A', 'C', 'A'), ('G', 'T', 'T', 'A', 'A', 'C'), ('G', 'T', 'T', 'C', 'A', 'A'), ('G', 'T', 'T', 'C', 'A', 'A'), ('G', 'T', 'T', 'A', 'A', 'C'), ('G', 'T', 'T', 'A', 'C', 'A'), ('G', 'T', 'C', 'A', 'T', 'A'), ('G', 'T', 'C', 'A', 'A', 'T'), ('G', 'T', 'C', 'T', 'A', 'A'), ('G', 'T', 'C', 'T', 'A', 'A'), ('G', 'T', 'C', 'A', 'A', 'T'), ('G', 'T', 'C', 'A', 'T', 'A'), ('G', 'T', 'A', 'A', 'T', 'C'), ('G', 'T', 'A', 'A', 'C', 'T'), ('G', 'T', 'A', 'T', 'A', 'C'), ('G', 'T', 'A', 'T', 'C', 'A'), ('G', 'T', 'A', 'C', 'A', 'T'), ('G', 'T', 'A', 'C', 'T', 'A'), ('A', 'A', 'T', 'C', 'G', 'T'), ('A', 'A', 'T', 'C', 'T', 'G'), ('A', 'A', 'T', 'G', 'C', 'T'), ('A', 'A', 'T', 'G', 'T', 'C'), ('A', 'A', 'T', 'T', 'C', 'G'), ('A', 'A', 'T', 'T', 'G', 'C'), ('A', 'A', 'C', 'T', 'G', 'T'), ('A', 'A', 'C', 'T', 'T', 'G'), ('A', 'A', 'C', 'G', 'T', 'T'), ('A', 'A', 'C', 'G', 'T', 'T'), ('A', 'A', 'C', 'T', 'T', 'G'), ('A', 'A', 'C', 'T', 'G', 'T'), ('A', 'A', 'G', 'T', 'C', 'T'), ('A', 'A', 'G', 'T', 'T', 'C'), ('A', 'A', 'G', 'C', 'T', 'T'), ('A', 'A', 'G', 'C', 'T', 'T'), ('A', 'A', 'G', 'T', 'T', 'C'), ('A', 'A', 'G', 'T', 'C', 'T'), ('A', 'A', 'T', 'T', 'C', 'G'), ('A', 'A', 'T', 'T', 'G', 'C'), ('A', 'A', 'T', 'C', 'T', 'G'), ('A', 'A', 'T', 'C', 'G', 'T'), ('A', 'A', 'T', 'G', 'T', 'C'), ('A', 'A', 'T', 'G', 'C', 'T'), ('A', 'T', 'A', 'C', 'G', 'T'), ('A', 'T', 'A', 'C', 'T', 'G'), ('A', 'T', 'A', 'G', 'C', 'T'), ('A', 'T', 'A', 'G', 'T', 'C'), ('A', 'T', 'A', 'T', 'C', 'G'), ('A', 'T', 'A', 'T', 'G', 'C'), ('A', 'T', 'C', 'A', 'G', 'T'), ('A', 'T', 'C', 'A', 'T', 'G'), ('A', 'T', 'C', 'G', 'A', 'T'), ('A', 'T', 'C', 'G', 'T', 'A'), ('A', 'T', 'C', 'T', 'A', 'G'), ('A', 'T', 'C', 'T', 'G', 'A'), ('A', 'T', 'G', 'A', 'C', 'T'), ('A', 'T', 'G', 'A', 'T', 'C'), ('A', 'T', 'G', 'C', 'A', 'T'), ('A', 'T', 'G', 'C', 'T', 'A'), ('A', 'T', 'G', 'T', 'A', 'C'), ('A', 'T', 'G', 'T', 'C', 'A'), ('A', 'T', 'T', 'A', 'C', 'G'), ('A', 'T', 'T', 'A', 'G', 'C'), ('A', 'T', 'T', 'C', 'A', 'G'), ('A', 'T', 'T', 'C', 'G', 'A'), ('A', 'T', 'T', 'G', 'A', 'C'), ('A', 'T', 'T', 'G', 'C', 'A'), ('A', 'C', 'A', 'T', 'G', 'T'), ('A', 'C', 'A', 'T', 'T', 'G'), ('A', 'C', 'A', 'G', 'T', 'T'), ('A', 'C', 'A', 'G', 'T', 'T'), ('A', 'C', 'A', 'T', 'T', 'G'), ('A', 'C', 'A', 'T', 'G', 'T'), ('A', 'C', 'T', 'A', 'G', 'T'), ('A', 'C', 'T', 'A', 'T', 'G'), ('A', 'C', 'T', 'G', 'A', 'T'), ('A', 'C', 'T', 'G', 'T', 'A'), ('A', 'C', 'T', 'T', 'A', 'G'), ('A', 'C', 'T', 'T', 'G', 'A'), ('A', 'C', 'G', 'A', 'T', 'T'), ('A', 'C', 'G', 'A', 'T', 'T'), ('A', 'C', 'G', 'T', 'A', 'T'), ('A', 'C', 'G', 'T', 'T', 'A'), ('A', 'C', 'G', 'T', 'A', 'T'), ('A', 'C', 'G', 'T', 'T', 'A'), ('A', 'C', 'T', 'A', 'T', 'G'), ('A', 'C', 'T', 'A', 'G', 'T'), ('A', 'C', 'T', 'T', 'A', 'G'), ('A', 'C', 'T', 'T', 'G', 'A'), ('A', 'C', 'T', 'G', 'A', 'T'), ('A', 'C', 'T', 'G', 'T', 'A'), ('A', 'G', 'A', 'T', 'C', 'T'), ('A', 'G', 'A', 'T', 'T', 'C'), ('A', 'G', 'A', 'C', 'T', 'T'), ('A', 'G', 'A', 'C', 'T', 'T'), ('A', 'G', 'A', 'T', 'T', 'C'), ('A', 'G', 'A', 'T', 'C', 'T'), ('A', 'G', 'T', 'A', 'C', 'T'), ('A', 'G', 'T', 'A', 'T', 'C'), ('A', 'G', 'T', 'C', 'A', 'T'), ('A', 'G', 'T', 'C', 'T', 'A'), ('A', 'G', 'T', 'T', 'A', 'C'), ('A', 'G', 'T', 'T', 'C', 'A'), ('A', 'G', 'C', 'A', 'T', 'T'), ('A', 'G', 'C', 'A', 'T', 'T'), ('A', 'G', 'C', 'T', 'A', 'T'), ('A', 'G', 'C', 'T', 'T', 'A'), ('A', 'G', 'C', 'T', 'A', 'T'), ('A', 'G', 'C', 'T', 'T', 'A'), ('A', 'G', 'T', 'A', 'T', 'C'), ('A', 'G', 'T', 'A', 'C', 'T'), ('A', 'G', 'T', 'T', 'A', 'C'), ('A', 'G', 'T', 'T', 'C', 'A'), ('A', 'G', 'T', 'C', 'A', 'T'), ('A', 'G', 'T', 'C', 'T', 'A'), ('A', 'T', 'A', 'T', 'C', 'G'), ('A', 'T', 'A', 'T', 'G', 'C'), ('A', 'T', 'A', 'C', 'T', 'G'), ('A', 'T', 'A', 'C', 'G', 'T'), ('A', 'T', 'A', 'G', 'T', 'C'), ('A', 'T', 'A', 'G', 'C', 'T'), ('A', 'T', 'T', 'A', 'C', 'G'), ('A', 'T', 'T', 'A', 'G', 'C'), ('A', 'T', 'T', 'C', 'A', 'G'), ('A', 'T', 'T', 'C', 'G', 'A'), ('A', 'T', 'T', 'G', 'A', 'C'), ('A', 'T', 'T', 'G', 'C', 'A'), ('A', 'T', 'C', 'A', 'T', 'G'), ('A', 'T', 'C', 'A', 'G', 'T'), ('A', 'T', 'C', 'T', 'A', 'G'), ('A', 'T', 'C', 'T', 'G', 'A'), ('A', 'T', 'C', 'G', 'A', 'T'), ('A', 'T', 'C', 'G', 'T', 'A'), ('A', 'T', 'G', 'A', 'T', 'C'), ('A', 'T', 'G', 'A', 'C', 'T'), ('A', 'T', 'G', 'T', 'A', 'C'), ('A', 'T', 'G', 'T', 'C', 'A'), ('A', 'T', 'G', 'C', 'A', 'T'), ('A', 'T', 'G', 'C', 'T', 'A'), ('T', 'A', 'T', 'C', 'G', 'A'), ('T', 'A', 'T', 'C', 'A', 'G'), ('T', 'A', 'T', 'G', 'C', 'A'), ('T', 'A', 'T', 'G', 'A', 'C'), ('T', 'A', 'T', 'A', 'C', 'G'), ('T', 'A', 'T', 'A', 'G', 'C'), ('T', 'A', 'C', 'T', 'G', 'A'), ('T', 'A', 'C', 'T', 'A', 'G'), ('T', 'A', 'C', 'G', 'T', 'A'), ('T', 'A', 'C', 'G', 'A', 'T'), ('T', 'A', 'C', 'A', 'T', 'G'), ('T', 'A', 'C', 'A', 'G', 'T'), ('T', 'A', 'G', 'T', 'C', 'A'), ('T', 'A', 'G', 'T', 'A', 'C'), ('T', 'A', 'G', 'C', 'T', 'A'), ('T', 'A', 'G', 'C', 'A', 'T'), ('T', 'A', 'G', 'A', 'T', 'C'), ('T', 'A', 'G', 'A', 'C', 'T'), ('T', 'A', 'A', 'T', 'C', 'G'), ('T', 'A', 'A', 'T', 'G', 'C'), ('T', 'A', 'A', 'C', 'T', 'G'), ('T', 'A', 'A', 'C', 'G', 'T'), ('T', 'A', 'A', 'G', 'T', 'C'), ('T', 'A', 'A', 'G', 'C', 'T'), ('T', 'T', 'A', 'C', 'G', 'A'), ('T', 'T', 'A', 'C', 'A', 'G'), ('T', 'T', 'A', 'G', 'C', 'A'), ('T', 'T', 'A', 'G', 'A', 'C'), ('T', 'T', 'A', 'A', 'C', 'G'), ('T', 'T', 'A', 'A', 'G', 'C'), ('T', 'T', 'C', 'A', 'G', 'A'), ('T', 'T', 'C', 'A', 'A', 'G'), ('T', 'T', 'C', 'G', 'A', 'A'), ('T', 'T', 'C', 'G', 'A', 'A'), ('T', 'T', 'C', 'A', 'A', 'G'), ('T', 'T', 'C', 'A', 'G', 'A'), ('T', 'T', 'G', 'A', 'C', 'A'), ('T', 'T', 'G', 'A', 'A', 'C'), ('T', 'T', 'G', 'C', 'A', 'A'), ('T', 'T', 'G', 'C', 'A', 'A'), ('T', 'T', 'G', 'A', 'A', 'C'), ('T', 'T', 'G', 'A', 'C', 'A'), ('T', 'T', 'A', 'A', 'C', 'G'), ('T', 'T', 'A', 'A', 'G', 'C'), ('T', 'T', 'A', 'C', 'A', 'G'), ('T', 'T', 'A', 'C', 'G', 'A'), ('T', 'T', 'A', 'G', 'A', 'C'), ('T', 'T', 'A', 'G', 'C', 'A'), ('T', 'C', 'A', 'T', 'G', 'A'), ('T', 'C', 'A', 'T', 'A', 'G'), ('T', 'C', 'A', 'G', 'T', 'A'), ('T', 'C', 'A', 'G', 'A', 'T'), ('T', 'C', 'A', 'A', 'T', 'G'), ('T', 'C', 'A', 'A', 'G', 'T'), ('T', 'C', 'T', 'A', 'G', 'A'), ('T', 'C', 'T', 'A', 'A', 'G'), ('T', 'C', 'T', 'G', 'A', 'A'), ('T', 'C', 'T', 'G', 'A', 'A'), ('T', 'C', 'T', 'A', 'A', 'G'), ('T', 'C', 'T', 'A', 'G', 'A'), ('T', 'C', 'G', 'A', 'T', 'A'), ('T', 'C', 'G', 'A', 'A', 'T'), ('T', 'C', 'G', 'T', 'A', 'A'), ('T', 'C', 'G', 'T', 'A', 'A'), ('T', 'C', 'G', 'A', 'A', 'T'), ('T', 'C', 'G', 'A', 'T', 'A'), ('T', 'C', 'A', 'A', 'T', 'G'), ('T', 'C', 'A', 'A', 'G', 'T'), ('T', 'C', 'A', 'T', 'A', 'G'), ('T', 'C', 'A', 'T', 'G', 'A'), ('T', 'C', 'A', 'G', 'A', 'T'), ('T', 'C', 'A', 'G', 'T', 'A'), ('T', 'G', 'A', 'T', 'C', 'A'), ('T', 'G', 'A', 'T', 'A', 'C'), ('T', 'G', 'A', 'C', 'T', 'A'), ('T', 'G', 'A', 'C', 'A', 'T'), ('T', 'G', 'A', 'A', 'T', 'C'), ('T', 'G', 'A', 'A', 'C', 'T'), ('T', 'G', 'T', 'A', 'C', 'A'), ('T', 'G', 'T', 'A', 'A', 'C'), ('T', 'G', 'T', 'C', 'A', 'A'), ('T', 'G', 'T', 'C', 'A', 'A'), ('T', 'G', 'T', 'A', 'A', 'C'), ('T', 'G', 'T', 'A', 'C', 'A'), ('T', 'G', 'C', 'A', 'T', 'A'), ('T', 'G', 'C', 'A', 'A', 'T'), ('T', 'G', 'C', 'T', 'A', 'A'), ('T', 'G', 'C', 'T', 'A', 'A'), ('T', 'G', 'C', 'A', 'A', 'T'), ('T', 'G', 'C', 'A', 'T', 'A'), ('T', 'G', 'A', 'A', 'T', 'C'), ('T', 'G', 'A', 'A', 'C', 'T'), ('T', 'G', 'A', 'T', 'A', 'C'), ('T', 'G', 'A', 'T', 'C', 'A'), ('T', 'G', 'A', 'C', 'A', 'T'), ('T', 'G', 'A', 'C', 'T', 'A'), ('T', 'A', 'A', 'T', 'C', 'G'), ('T', 'A', 'A', 'T', 'G', 'C'), ('T', 'A', 'A', 'C', 'T', 'G'), ('T', 'A', 'A', 'C', 'G', 'T'), ('T', 'A', 'A', 'G', 'T', 'C'), ('T', 'A', 'A', 'G', 'C', 'T'), ('T', 'A', 'T', 'A', 'C', 'G'), ('T', 'A', 'T', 'A', 'G', 'C'), ('T', 'A', 'T', 'C', 'A', 'G'), ('T', 'A', 'T', 'C', 'G', 'A'), ('T', 'A', 'T', 'G', 'A', 'C'), ('T', 'A', 'T', 'G', 'C', 'A'), ('T', 'A', 'C', 'A', 'T', 'G'), ('T', 'A', 'C', 'A', 'G', 'T'), ('T', 'A', 'C', 'T', 'A', 'G'), ('T', 'A', 'C', 'T', 'G', 'A'), ('T', 'A', 'C', 'G', 'A', 'T'), ('T', 'A', 'C', 'G', 'T', 'A'), ('T', 'A', 'G', 'A', 'T', 'C'), ('T', 'A', 'G', 'A', 'C', 'T'), ('T', 'A', 'G', 'T', 'A', 'C'), ('T', 'A', 'G', 'T', 'C', 'A'), ('T', 'A', 'G', 'C', 'A', 'T'), ('T', 'A', 'G', 'C', 'T', 'A')]\n",
      "720\n"
     ]
    }
   ],
   "source": [
    "from itertools import permutations as perm\n",
    "\n",
    "#How many different permutations are there of the sequence ATCGAT\n",
    "seq = 'ATCGAT'\n",
    "perms = perm(seq) #this is a permutations object\n",
    "#Turn it into a list\n",
    "perms = list(perms)\n",
    "print(perms)\n",
    "print(len(perms))"
   ]
  },
  {
   "cell_type": "markdown",
   "metadata": {},
   "source": [
    "# <font color = 'red'> Exercises </font>\n",
    "\n",
    "There are three exercises below, each with an empty code block after them. Fill the code blocks with code to answer each exercise."
   ]
  },
  {
   "cell_type": "markdown",
   "metadata": {},
   "source": [
    "## Exercise 1\n",
    "\n",
    "Write a function that takes in a DNA sequence, \"transcribes\" it to RNA, and then translates it into a peptide sequence.  Use this function to translate the sequence 'ATTAACAGCGAACGCACCTGCCTGGAAGTGGAACGCATGGAAAGCAGCGCGGGCGAACATGAACGCGAA'.\n",
    "\n",
    "Here's some pseudocode to help you out.\n",
    "\n",
    "Make a dictionary that relates codons and amino acids by zipping the two lists provided in the code block below.\n",
    "Give your function that dictionary and a sequence.\n",
    "Have your function \"transcribe\" the sequence by turning Ts into Us.\n",
    "Make a list of all codons in the '0' open reading frame.\n",
    "Using your dictionary, find the amino acid corresponding to each codon."
   ]
  },
  {
   "cell_type": "code",
   "execution_count": null,
   "metadata": {
    "collapsed": true
   },
   "outputs": [],
   "source": [
    "codons = ['UUU', 'UUC', 'UUA', 'UUG', 'UCU', 'UCC', 'UCA', 'UCG', 'UAU', 'UAC', 'UAA', 'UAG', 'UGU', 'UGC', 'UGA', 'UGG', \n",
    "          'CUU', 'CUC', 'CUA', 'CUG', 'CCU', 'CCC', 'CCA', 'CCG', 'CAU', 'CAC', 'CAA', 'CAG', 'CGU', 'CGC', 'CGA', 'CGG', \n",
    "          'AUU', 'AUC', 'AUA', 'AUG', 'ACU', 'ACC', 'ACA', 'ACG', 'AAU', 'AAC', 'AAA', 'AAG', 'AGU', 'AGC', 'AGA', 'AGG', \n",
    "          'GUU', 'GUC', 'GUA', 'GUG', 'GCU', 'GCC', 'GCA', 'GCG', 'GAU', 'GAC', 'GAA', 'GAG', 'GGU', 'GGC', 'GGA', 'GGG']\n",
    "\n",
    "aminoacids = 'FFLLSSSSYY**CC*WLLLLPPPPHHQQRRRRIIIMTTTTNNKKSSRRVVVVAAAADDEEGGGG'"
   ]
  },
  {
   "cell_type": "markdown",
   "metadata": {},
   "source": [
    "## Exercise 2\n",
    "\n",
    "You have a bunch of currency of various demoninations in your pocket.  Specifically, you have three $20 bills, five $10 bills, two $5 bills, and five $1 bills.  Using these bills, how many different ways can you make $100?\n",
    "\n",
    "Here's some pseudocode to help out.\n",
    "\n",
    "Make a list of all the bills you have.\n",
    "Using the combinations function, get all possible combinations of these bills.\n",
    "Sum the denominations in each combination and keep the combinations whose sum is 100."
   ]
  },
  {
   "cell_type": "code",
   "execution_count": null,
   "metadata": {
    "collapsed": true
   },
   "outputs": [],
   "source": []
  },
  {
   "cell_type": "markdown",
   "metadata": {},
   "source": [
    "## Exercise 3\n",
    "\n",
    "In your favorite protein there is a stretch of six amino acids that contain two proline residues.  Curiously, in this particular 6mer, the two prolines are right next to each other.  You wonder how rare this is.  You have gathered all 6mer sequences in the entire proteome and found that in only 1% of these 6mer sequences are the prolines next to each other.  For a 6mer amino acid sequence that contains two prolines, if amino acids were purely randomly distributed, what is the expected frequency of 6mers that contain consecutive prolines?  Are consecutive prolines depleted from naturally occuring protein sequence?\n",
    "\n",
    "Here's some pseudocode.\n",
    "\n",
    "6mer sequences that contain two prolines can be represented as 'XXPPXX'. The identity of non-proline residues doesn't matter, just so long as we represent them as being non-proline.\n",
    "\n",
    "Get all permutations of the 6mer 'XXPPXX'.  Count the number of those that contain consecutive prolines.  Divide that by the total number of permutations to get a frequency."
   ]
  },
  {
   "cell_type": "code",
   "execution_count": 15,
   "metadata": {},
   "outputs": [
    {
     "name": "stdout",
     "output_type": "stream",
     "text": [
      "240 720 0.3333333333333333\n"
     ]
    }
   ],
   "source": []
  }
 ],
 "metadata": {
  "kernelspec": {
   "display_name": "Python 3",
   "language": "python",
   "name": "python3"
  },
  "language_info": {
   "codemirror_mode": {
    "name": "ipython",
    "version": 3
   },
   "file_extension": ".py",
   "mimetype": "text/x-python",
   "name": "python",
   "nbconvert_exporter": "python",
   "pygments_lexer": "ipython3",
   "version": "3.6.2"
  }
 },
 "nbformat": 4,
 "nbformat_minor": 2
}
