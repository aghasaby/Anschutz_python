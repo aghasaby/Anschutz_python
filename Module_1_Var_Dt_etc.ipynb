{
 "cells": [
  {
   "cell_type": "markdown",
   "metadata": {},
   "source": [
    "# Lesson 1 - Buckets and Conditions\n",
    "\n",
    "## Topics:\n",
    " - Variables\n",
    " - Data Types\n",
    " - Operators\n",
    " - Boolean\n",
    " - Conditional statements\n",
    " \n",
    "## Variables\n",
    "A variable is a bucket or a basket. A bucket can hold things - what it holds depends on what we put in it - it can be toys for example. It is useful to put things in a bucket for specific operations, like taking the toys from one place to another. Or to washing the toys under the tap. Similarly, a variable can hold data in memory and allows a program to perform operations on the data. \n",
    "\n",
    "Another way to think of a variable is that we can do the same operations many times by using variables, which will become clear in an example below.\n",
    "\n",
    "First, we can assign values to variables. Consider the variables a_number, another_number, and a_phrase :\n"
   ]
  },
  {
   "cell_type": "code",
   "execution_count": 2,
   "metadata": {
    "collapsed": false
   },
   "outputs": [
    {
     "data": {
      "text/plain": [
       "2"
      ]
     },
     "execution_count": 2,
     "metadata": {},
     "output_type": "execute_result"
    }
   ],
   "source": [
    "a_number = 2\n",
    "another_number = 4\n",
    "a_phrase = \"I am learning python\""
   ]
  },
  {
   "cell_type": "markdown",
   "metadata": {},
   "source": [
    "How can we know what is in a variable? Just type the variable name:"
   ]
  },
  {
   "cell_type": "code",
   "execution_count": 3,
   "metadata": {
    "collapsed": false
   },
   "outputs": [
    {
     "data": {
      "text/plain": [
       "2"
      ]
     },
     "execution_count": 3,
     "metadata": {},
     "output_type": "execute_result"
    }
   ],
   "source": [
    "a_number"
   ]
  },
  {
   "cell_type": "markdown",
   "metadata": {},
   "source": [
    "What if we haven't assigned any value to a variable? Consider the new variable not_assigned :"
   ]
  },
  {
   "cell_type": "code",
   "execution_count": 4,
   "metadata": {
    "collapsed": false
   },
   "outputs": [
    {
     "ename": "NameError",
     "evalue": "name 'not_assigned' is not defined",
     "output_type": "error",
     "traceback": [
      "\u001b[0;31m---------------------------------------------------------------------------\u001b[0m",
      "\u001b[0;31mNameError\u001b[0m                                 Traceback (most recent call last)",
      "\u001b[0;32m<ipython-input-4-8c785d105685>\u001b[0m in \u001b[0;36m<module>\u001b[0;34m()\u001b[0m\n\u001b[0;32m----> 1\u001b[0;31m \u001b[0mnot_assigned\u001b[0m\u001b[0;34m\u001b[0m\u001b[0m\n\u001b[0m",
      "\u001b[0;31mNameError\u001b[0m: name 'not_assigned' is not defined"
     ]
    }
   ],
   "source": [
    "not_assigned"
   ]
  },
  {
   "cell_type": "markdown",
   "metadata": {},
   "source": [
    "python doesn't know what not_assigned is (becuase we didn't assign or \"declare\" the variable) so it throws a fit. Let us try again:"
   ]
  },
  {
   "cell_type": "code",
   "execution_count": 5,
   "metadata": {
    "collapsed": false
   },
   "outputs": [
    {
     "data": {
      "text/plain": [
       "'I will assign variables before using them'"
      ]
     },
     "execution_count": 5,
     "metadata": {},
     "output_type": "execute_result"
    }
   ],
   "source": [
    "not_assigned = 'I will assign variables before using them'\n",
    "not_assigned"
   ]
  },
  {
   "cell_type": "markdown",
   "metadata": {},
   "source": [
    "You may have noticed by now that we assigned both numbers and text to variables - how do we think about these variables? We think about them as \"what data type is the variable?\" using the type() function:"
   ]
  },
  {
   "cell_type": "code",
   "execution_count": 11,
   "metadata": {
    "collapsed": false
   },
   "outputs": [
    {
     "name": "stdout",
     "output_type": "stream",
     "text": [
      "<class 'int'>\n",
      "<class 'int'>\n",
      "<class 'str'>\n",
      "<class 'str'>\n"
     ]
    }
   ],
   "source": [
    "print(type(a_number))\n",
    "print(type(another_number))\n",
    "print(type(a_phrase))\n",
    "print(type(not_assigned))"
   ]
  }
 ],
 "metadata": {
  "anaconda-cloud": {},
  "kernelspec": {
   "display_name": "Python [conda root]",
   "language": "python",
   "name": "conda-root-py"
  },
  "language_info": {
   "codemirror_mode": {
    "name": "ipython",
    "version": 3
   },
   "file_extension": ".py",
   "mimetype": "text/x-python",
   "name": "python",
   "nbconvert_exporter": "python",
   "pygments_lexer": "ipython3",
   "version": "3.5.2"
  }
 },
 "nbformat": 4,
 "nbformat_minor": 1
}
