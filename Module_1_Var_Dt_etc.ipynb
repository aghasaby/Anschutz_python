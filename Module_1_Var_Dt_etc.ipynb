{
 "cells": [
  {
   "cell_type": "markdown",
   "metadata": {},
   "source": [
    "# Lesson 1 - Buckets and Conditions\n",
    "\n",
    "## Topics:\n",
    " - Variables\n",
    " - Data Types\n",
    " - Operators\n",
    " - Boolean\n",
    " - Conditional statements\n",
    " \n",
    "## Variables\n",
    "A variable is a bucket or a basket. A bucket can hold things - what it holds depends on what we put in it - it can be toys for example. It is useful to put things in a bucket for specific operations, like taking the toys from one place to another. Or to washing the toys under the tap. Similarly, a variable can hold data in memory and allows a program to perform operations on the data. \n",
    "\n",
    "Another way to think of a variable is that we can do the same operations many times by using variables, which will become clear in an example below.\n",
    "\n",
    "First, we can assign values to variables. Consider the variables a_number, another_number, and a_phrase :\n"
   ]
  },
  {
   "cell_type": "code",
   "execution_count": null,
   "metadata": {
    "collapsed": true
   },
   "outputs": [],
   "source": [
    "a_number = 2 # integer\n",
    "another_number = 4 # integer\n",
    "a_phrase = \"I am learning python\" # string"
   ]
  },
  {
   "cell_type": "markdown",
   "metadata": {},
   "source": [
    "How can we know what is in a variable? Just type the variable name:"
   ]
  },
  {
   "cell_type": "code",
   "execution_count": null,
   "metadata": {
    "collapsed": false
   },
   "outputs": [],
   "source": [
    "a_number"
   ]
  },
  {
   "cell_type": "markdown",
   "metadata": {},
   "source": [
    "What if we haven't assigned any value to a variable? Consider the new variable not_assigned :"
   ]
  },
  {
   "cell_type": "code",
   "execution_count": null,
   "metadata": {
    "collapsed": false
   },
   "outputs": [],
   "source": [
    "not_assigned"
   ]
  },
  {
   "cell_type": "markdown",
   "metadata": {},
   "source": [
    "python doesn't know what not_assigned is (becuase we didn't assign or \"declare\" the variable) so it throws a fit. Let us try again:"
   ]
  },
  {
   "cell_type": "code",
   "execution_count": null,
   "metadata": {
    "collapsed": false
   },
   "outputs": [],
   "source": [
    "not_assigned = 'I will assign variables before using them'\n",
    "not_assigned"
   ]
  },
  {
   "cell_type": "markdown",
   "metadata": {},
   "source": [
    "You may have noticed by now that we assigned both numbers and text to variables - how do we think about these variables? We think about them as \"what data type is the variable?\" using the type() function:"
   ]
  },
  {
   "cell_type": "code",
   "execution_count": null,
   "metadata": {
    "collapsed": false
   },
   "outputs": [],
   "source": [
    "print(type(a_number))\n",
    "print(type(another_number))\n",
    "print(type(a_phrase))\n",
    "print(type(not_assigned))"
   ]
  },
  {
   "cell_type": "markdown",
   "metadata": {},
   "source": [
    "## Data types in python\n",
    "\n",
    "- Number \n",
    "- String\n",
    "- List - Module 2\n",
    "- Tuple - Module 2\n",
    "- Dictionory - Module 2\n",
    "\n",
    "## Numbers in python\n",
    "- Integer\n",
    "- Long (We won't use them)\n",
    "- Float - decimal number\n",
    "- Complex (We won't use them)\n",
    "\n",
    "### Assigning/changing number type\n",
    "\n",
    "By default, python looks at the number and assigns a type. You can also specify the type explicitly."
   ]
  },
  {
   "cell_type": "code",
   "execution_count": null,
   "metadata": {
    "collapsed": false
   },
   "outputs": [],
   "source": [
    "is_it_a_float = 10.0\n",
    "type(is_it_a_float)"
   ]
  },
  {
   "cell_type": "code",
   "execution_count": null,
   "metadata": {
    "collapsed": false
   },
   "outputs": [],
   "source": [
    "is_it_a_float = 10\n",
    "type(is_it_a_float)"
   ]
  },
  {
   "cell_type": "code",
   "execution_count": null,
   "metadata": {
    "collapsed": false
   },
   "outputs": [],
   "source": [
    "it_is_a_float = float(is_it_a_float)\n",
    "it_is_a_float"
   ]
  },
  {
   "cell_type": "code",
   "execution_count": null,
   "metadata": {
    "collapsed": false
   },
   "outputs": [],
   "source": [
    "type(it_is_a_float)"
   ]
  },
  {
   "cell_type": "markdown",
   "metadata": {},
   "source": [
    "### Strings\n",
    "#### Strings are very important variable type for our purposes. Why?\n",
    "\n",
    "String is just a set of characters enclosed by quotation marks. We can manipulate strings in many ways with python that is powerful and very useful in a variety of contexts. \n",
    "\n",
    "- String is just an list of characters, each having an index"
   ]
  },
  {
   "cell_type": "code",
   "execution_count": null,
   "metadata": {
    "collapsed": false
   },
   "outputs": [],
   "source": [
    "a_string = \"Bunch of Characters\"\n",
    "print(a_string[1])"
   ]
  },
  {
   "cell_type": "code",
   "execution_count": null,
   "metadata": {
    "collapsed": false
   },
   "outputs": [],
   "source": [
    "print(a_string[0:3])"
   ]
  },
  {
   "cell_type": "code",
   "execution_count": null,
   "metadata": {
    "collapsed": false
   },
   "outputs": [],
   "source": [
    "print(a_string[5:])"
   ]
  },
  {
   "cell_type": "markdown",
   "metadata": {},
   "source": [
    "#### String concatenation"
   ]
  },
  {
   "cell_type": "code",
   "execution_count": null,
   "metadata": {
    "collapsed": false
   },
   "outputs": [],
   "source": [
    "second_string = \" in a movie\"\n",
    "sentence = a_string + second_string\n",
    "sentence"
   ]
  },
  {
   "cell_type": "markdown",
   "metadata": {},
   "source": [
    "String manipulation"
   ]
  },
  {
   "cell_type": "markdown",
   "metadata": {},
   "source": [
    "### Operators\n",
    "- Addition: +\n",
    "- Subtraction: -\n",
    "- Division: /\n",
    "- Multiplication: \\*\n",
    "- Exponentiation: \\**"
   ]
  },
  {
   "cell_type": "code",
   "execution_count": null,
   "metadata": {
    "collapsed": false
   },
   "outputs": [],
   "source": [
    "print(\"Addition: 1 + 2 =\",1+2)\n",
    "print(\"Subtraction: 2 - 1 =\",2-1)\n",
    "print(\"Division: 10/3 =\",10/3) \n",
    "print(\"Multiplication: 10*3 =\",10*3)\n",
    "print(\"Exponentiation: 5**2 =\",5**2)\n",
    "print(\"Exponentiation: 4**0.5 =\",4**0.5)\n",
    "print(\"Exponentiation: 4**-1 =\",4**-1)"
   ]
  },
  {
   "cell_type": "markdown",
   "metadata": {},
   "source": [
    "### Some useful math functions similar to operators:\n",
    "- round()\n",
    "- abs()\n",
    "With math module:\n",
    "- pi - value of the constant pi\n",
    "- https://docs.python.org/2/library/math.html"
   ]
  },
  {
   "cell_type": "code",
   "execution_count": null,
   "metadata": {
    "collapsed": false
   },
   "outputs": [],
   "source": [
    "import math"
   ]
  },
  {
   "cell_type": "code",
   "execution_count": null,
   "metadata": {
    "collapsed": false
   },
   "outputs": [],
   "source": [
    "print(math.pi)\n",
    "print(abs(-1.2))\n",
    "print(round(1.2))\n",
    "print(round(1.23232,2))"
   ]
  },
  {
   "cell_type": "markdown",
   "metadata": {},
   "source": [
    "### Boolean"
   ]
  },
  {
   "cell_type": "markdown",
   "metadata": {},
   "source": [
    "### Conditional Statements"
   ]
  },
  {
   "cell_type": "code",
   "execution_count": null,
   "metadata": {
    "collapsed": true
   },
   "outputs": [],
   "source": []
  }
 ],
 "metadata": {
  "anaconda-cloud": {},
  "kernelspec": {
   "display_name": "Python [default]",
   "language": "python",
   "name": "python3"
  },
  "language_info": {
   "codemirror_mode": {
    "name": "ipython",
    "version": 3
   },
   "file_extension": ".py",
   "mimetype": "text/x-python",
   "name": "python",
   "nbconvert_exporter": "python",
   "pygments_lexer": "ipython3",
   "version": "3.5.2"
  }
 },
 "nbformat": 4,
 "nbformat_minor": 1
}
